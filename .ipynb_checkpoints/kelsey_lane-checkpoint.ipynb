{
 "cells": [
  {
   "cell_type": "markdown",
   "metadata": {},
   "source": [
    "# Microsoft Movie Studio Data Analysis\n",
    "---\n",
    "\n",
    "Authors: Andrew Bernklau, [Kelsey Lane](kelsklane@gmail.com), Lenore Perconti"
   ]
  },
  {
   "cell_type": "markdown",
   "metadata": {},
   "source": [
    "## Overview\n",
    "---\n",
    "\n",
    "This project analyzes various datasets related to movies in order to formulate three relevant reccomendations for the direction of Microsoft's new movie studio. By looking at **columns**, the data show that **basic results**. Microsoft can use these reccomendations to help decide which direction they want to take their new studio in terms of what types of movies to create for **intended direction ie) gross/rating**."
   ]
  },
  {
   "cell_type": "markdown",
   "metadata": {},
   "source": [
    "## Business Problem\n",
    "---\n",
    "For its future movies, Microsoft should **summarize reccomendations**. By following these reccomendations, Microsoft can **target audience/money/aka how use**. **Summarize implications of project for prob/stakeholder**"
   ]
  },
  {
   "cell_type": "markdown",
   "metadata": {},
   "source": [
    "## Data\n",
    "---\n",
    "[IMDB](https://www.imdb.com) is a public, online database with information about video media content. The datasets provide infomration about directors, writers, ratings, and runtime that can be used to track the success of different films. **edit features** The datasets used in the analysis include ones pretaining to **list used datasets**.\n",
    "- **Present size of datasets and descriptive stats for features used in analysis**\n",
    "- **Justify features inclusion based on properties + project relevance**\n",
    "- **Identify any data limitations that have project implications - nothing earlier than 2018 (?)**"
   ]
  },
  {
   "cell_type": "markdown",
   "metadata": {},
   "source": [
    "# Initial Exploration"
   ]
  },
  {
   "cell_type": "markdown",
   "metadata": {},
   "source": [
    "Loads in libraries used throughout the notebook"
   ]
  },
  {
   "cell_type": "code",
   "execution_count": 1,
   "metadata": {},
   "outputs": [],
   "source": [
    "import pandas as pd\n",
    "import matplotlib.pyplot as plt\n",
    "import seaborn as sns\n",
    "import numpy as np"
   ]
  },
  {
   "cell_type": "markdown",
   "metadata": {},
   "source": [
    "Read in Files:"
   ]
  },
  {
   "cell_type": "code",
   "execution_count": 2,
   "metadata": {},
   "outputs": [],
   "source": [
    "imdb = pd.read_csv('Data/imdb.csv')"
   ]
  },
  {
   "cell_type": "code",
   "execution_count": 3,
   "metadata": {},
   "outputs": [],
   "source": [
    "#Columns: title, studio, domestic_gross, foreign_gross, year\n",
    "bom_movie_gross = pd.read_csv('Data/bom.movie_gross.csv.gz', compression='gzip')\n",
    "\n",
    "#Columns: nconst, primary_name, birth_year, death_year, primary_profession, known_for_titles\n",
    "imdb_name_basics = pd.read_csv('Data/imdb.name.basics.csv.gz', compression='gzip')\n",
    "\n",
    "#Columns: title_id, ordering, title, region, language, types, attributes, is_original_title\n",
    "imdb_title_akas = pd.read_csv('Data/imdb.title.akas.csv.gz', compression='gzip')\n",
    "\n",
    "#Columns: tconst, primary_title, original_title, start_year, runtime_minutes, genres\n",
    "imdb_title_basics = pd.read_csv('Data/imdb.title.basics.csv.gz', compression='gzip')\n",
    "\n",
    "#Columns: tconst, directors, writers\n",
    "imdb_title_crew = pd.read_csv('Data/imdb.title.crew.csv.gz', compression='gzip')\n",
    "\n",
    "#Columns: tconst, ordering, nconst, category, job, characters\n",
    "imdb_title_principals = pd.read_csv('Data/imdb.title.principals.csv.gz', compression='gzip')\n",
    "\n",
    "#Columns: tconst, averagerating, numvotes\n",
    "imdb_title_ratings = pd.read_csv('Data/imdb.title.ratings.csv.gz', compression='gzip')\n",
    "\n",
    "#Columns: id, synopsis, rating, genre, director, writer, theater_date, dvd_date, currency, box_office, runtime, studio\n",
    "rt_movie_info = pd.read_csv('Data/rt.movie_info.tsv.gz', compression='gzip', sep = '\\t')\n",
    "\n",
    "#Columns: id, review, rating, fresh, critic, top_critic, publisher, date\n",
    "rt_reviews = pd.read_csv('Data/rt.reviews.tsv.gz', compression='gzip', sep = '\\t', encoding = 'latin1')\n",
    "\n",
    "#Columns: Unnamed:0, genre_ids, original_language, original_title, popularity, release_date, title, vote_average, vote_count\n",
    "tmdb_movies = pd.read_csv('Data/tmdb.movies.csv.gz', compression='gzip')\n",
    "\n",
    "#Columns: id, release_date, movie, production_budget, domestic_gross, worldwide_gross\n",
    "tn_movie_budgets = pd.read_csv('Data/tn.movie_budgets.csv.gz', compression='gzip')\n"
   ]
  },
  {
   "cell_type": "code",
   "execution_count": 22,
   "metadata": {},
   "outputs": [],
   "source": [
    "#imdb_title_basic\n",
    "#imdb_title_crew\n",
    "#imdb_name_basics\n",
    "#imdb_title_ratings\n",
    "\n",
    "imdb_title_basics_slim = imdb_title_basics[['tconst', 'primary_title', 'start_year', 'genres', 'runtime_minutes']]\n",
    "imdb_name_basics_slim = imdb_name_basics[['nconst', 'primary_name', 'death_year']]\n",
    "imdb_title_ratings_slim = imdb_title_ratings[['tconst', 'averagerating', 'numvotes']]\n",
    "\n",
    "recent_imdb_title_basics = imdb_title_basics_slim[(imdb_title_basics_slim['start_year'] >= 2014) & (imdb_title_basics_slim['start_year'] <= 2018)]\n",
    "imdb_title_ratings_half = imdb_title_ratings_slim[imdb_title_ratings_slim['numvotes'] >= imdb_title_ratings_slim['numvotes'].mean()]\n",
    "\n",
    "\n",
    "one = recent_imdb_title_basics.merge(imdb_title_crew, how = 'inner')\n",
    "imdb = one.merge(imdb_title_ratings_half, how = 'inner')\n",
    "\n",
    "#imdb.to_csv('Data/imdb.csv', index = False)\n",
    "#imdb_name_basics_slim.to_csv('Data/imdb_name_basics_slim', index = False)\n",
    "\n"
   ]
  },
  {
   "cell_type": "markdown",
   "metadata": {},
   "source": [
    "# Box Office Mojo Data Rundown"
   ]
  },
  {
   "cell_type": "code",
   "execution_count": 4,
   "metadata": {},
   "outputs": [],
   "source": [
    "#bom_movie_gross['year'].max()"
   ]
  },
  {
   "cell_type": "markdown",
   "metadata": {},
   "source": [
    "Foreign_gross needs to be converted to an int from string\n",
    "\n",
    "Studio has 5 missing values, domestic gross is missing 28 values, foreign gross is missing 1350\n",
    "\n",
    "Two movies named Bluebeard (same or different movies?)\n",
    "\n",
    "Could look into domestic vs foreign markets, most profitable studios + trends they follow?"
   ]
  },
  {
   "cell_type": "markdown",
   "metadata": {},
   "source": [
    "# IMDb Data Rundown"
   ]
  },
  {
   "cell_type": "code",
   "execution_count": 105,
   "metadata": {},
   "outputs": [
    {
     "data": {
      "text/plain": [
       "nm0000636                        80\n",
       "nm2682776                        48\n",
       "nm3266654                        46\n",
       "nm3583561                        40\n",
       "nm0772905                        34\n",
       "                                 ..\n",
       "nm5722711                         1\n",
       "nm1420267,nm1421040               1\n",
       "nm6285356                         1\n",
       "nm6250407,nm6250400,nm5793432     1\n",
       "nm9905261                         1\n",
       "Name: writers, Length: 91920, dtype: int64"
      ]
     },
     "execution_count": 105,
     "metadata": {},
     "output_type": "execute_result"
    }
   ],
   "source": [
    "#imdb_name_basics.head()\n",
    "#imdb_title_akas.head()\n",
    "#imdb_title_basics.head()\n",
    "#imdb_title_crew['writers'].value_counts()\n",
    "#imdb_title_principals['characters'].value_counts()\n",
    "#imdb_title_ratings.info()"
   ]
  },
  {
   "cell_type": "markdown",
   "metadata": {},
   "source": [
    "**Probably need to match movie titles/names instead of tt and nm tags**"
   ]
  },
  {
   "cell_type": "markdown",
   "metadata": {},
   "source": [
    "**name_basics**: List of people and their primary profession as well as titles they're known for\n",
    "- many birth yers and death years missing - can drop these columns? dont seem to provide useful info\n",
    "- 51,340 rows missing profession\n",
    "- 30,204 rows missing known for titles\n",
    "- many names are repeated multiple times - would have to consolodate this info\n",
    "- could be useful to get list of current trending directors/actors etc to reccomend for a film?\n",
    "- would need to clean up primary_profession column so seperate based on , then add proffesions to a list so easier to access data\n",
    "\n",
    "**title_akas**: international info? titles, regions, language, and lists if original or not\n",
    "- may have issues with this one due to foreign text, ditch it?\n",
    "- region is missing info and language missing a lot of info, types and attributes also missing info\n",
    "- lists US info, types marks if in festivale/dvd/etc, attributes has info on if new/alt spelling/complete title\n",
    "- could be used to clarify info in other tables perhaps?\n",
    "\n",
    "**title_basics**: List of titles (original and marketed) plus the runtime, start_year, and genres\n",
    "- original title is missing 21 entries, runtime missing 31,739 entries, genre missing 5,408\n",
    "- primary and original title has many repeats of names\n",
    "- one of the films starts in 2115? Error or start_year is like, in film universe start\n",
    "- would need to split genre on commas and makes list for easier readability of data\n",
    "- would be good to groupby year and look and runtime/genre trends?\n",
    "\n",
    "**title_crew**: List of titles and their directors and writers (references name_basic)\n",
    "- Directors missing 5727 entries and writers missing 35,883 entries\n",
    "- basically useful if we want to recommend a list of directors/writers of top movies\n",
    "- could also look at high # of director/writer and see what projects they worked on ie do it backwards\n",
    "\n",
    "**title_principals**: List of movies and people, for actors lists the role, ordering = importance?\n",
    "- job and character predictably have null values\n",
    "- Useful to see what actor played what character ie) wanna only nab main cast + not supporting\n",
    "\n",
    "**title_ratings**: Has average movie rating and number of votes\n",
    "- Basically where to grab rating info - merge w/ title_basics?\n",
    "- no null values! But doesn't contain same number of films as original list\n",
    "    - probably because there are duplicate movies in original list potentially?\n",
    "    - only look at movies with ratings??"
   ]
  },
  {
   "cell_type": "markdown",
   "metadata": {},
   "source": [
    "# Rotten Tomatoes Rundown"
   ]
  },
  {
   "cell_type": "code",
   "execution_count": 58,
   "metadata": {},
   "outputs": [],
   "source": [
    "#rt_movie_info['genre'].value_counts()\n",
    "#rt_reviews.info()"
   ]
  },
  {
   "cell_type": "markdown",
   "metadata": {},
   "source": [
    "**movie_info**: general info on films as well as theater release/dvd_date/box office/studio\n",
    "- missing info in every column but id, mostly in currency/box office and studio\n",
    "- could use for rating info - seperate into children/adult movies?\n",
    "    - mostly R/NR movies, around 1/6 or so are PG and even less are G\n",
    "\n",
    "**reviews**: contains fresh/rotten review, top critic + publisher as well as date of review\n",
    "- rating, review, publisher, and critic all missing info\n",
    "- rating would need to get converted to int\n",
    "- who to reach out for to review film? or which publisher?"
   ]
  },
  {
   "cell_type": "markdown",
   "metadata": {},
   "source": [
    "# TheMovieDatabase Rundown"
   ]
  },
  {
   "cell_type": "code",
   "execution_count": 69,
   "metadata": {},
   "outputs": [],
   "source": [
    "#tmdb_movies['vote_average'].sort_values(ascending = False)"
   ]
  },
  {
   "cell_type": "markdown",
   "metadata": {},
   "source": [
    "- no missing values! data actually seems pretty clean/well formated\n",
    "- There are duplicate movie entries though\n",
    "- popularity ranking, vote avg and vote count could be useful popularity metrics?"
   ]
  },
  {
   "cell_type": "markdown",
   "metadata": {},
   "source": [
    "# The Numbers Rundown"
   ]
  },
  {
   "cell_type": "code",
   "execution_count": 68,
   "metadata": {},
   "outputs": [],
   "source": [
    "#tn_movie_budgets['movie'].value_counts()"
   ]
  },
  {
   "cell_type": "markdown",
   "metadata": {},
   "source": [
    "- also no missing data!\n",
    "- need to convert budget and gross columns into ints though\n",
    "- some movies also in here multiple times\n",
    "- budgets alongside domestic and worldwide gross\n",
    "    - does worldwide include domestic?"
   ]
  },
  {
   "cell_type": "markdown",
   "metadata": {},
   "source": [
    "# Possible reccomendations to work towards\n",
    "\n",
    "1. Good genre/genre combos\n",
    "    - also consider quantity per year grouped by studio\n",
    "    - maybe look into both domestic + international market\n",
    "    - so one rec if want corner domestic market and one rec for international?\n",
    "2. Based on top ratings OR top grossing films - what cast/director/writer to angle for? Studio to work with?\n",
    "3. Recommendation for top grossing + different for top rated?\n",
    "    - that way could cater to if just want money or interested in like, artistic value\n",
    "4. Could also seperate out recommendations based on audience ie) PG vs R"
   ]
  },
  {
   "cell_type": "markdown",
   "metadata": {},
   "source": [
    "# Cast and Crew Analysis\n",
    "--- \n",
    "Focus on domestic market as international would require probably working with a foreign director etc."
   ]
  },
  {
   "cell_type": "code",
   "execution_count": 118,
   "metadata": {},
   "outputs": [],
   "source": [
    "#bom_movie_gross['year'].value_counts()\n",
    "#imdb_title_basics.head()\n",
    "#imdb_name_basics.head()\n",
    "#imdb_title_crew.head()\n",
    "#imdb_title_principals.head()"
   ]
  },
  {
   "cell_type": "code",
   "execution_count": 50,
   "metadata": {},
   "outputs": [],
   "source": [
    "#Creates a dataframe of top x most grossing films in the last three years of the dataframe\n",
    "recent_bom_movie_gross = bom_movie_gross[bom_movie_gross['year'] >= 2016]\n",
    "top_recent_gross = recent_bom_movie_gross['domestic_gross'].sort_values(ascending = False)\n",
    "top_recent_gross_title = [bom_movie_gross['title'].iloc[film] for film in top_recent_gross.index]\n",
    "#bom_movie_gross_top = bom_movie_gross[bom_movie_gross['title'].isin(top_recent_gross_title)]"
   ]
  },
  {
   "cell_type": "code",
   "execution_count": 7,
   "metadata": {},
   "outputs": [],
   "source": [
    "#Merges basic cast and titles dataframes together than grabs only the rows with movies that have information on gross income\n",
    "imdb_title_basic_crew = imdb_title_basics.merge(imdb_title_crew, how = 'inner')\n",
    "\n",
    "#gross_imdb = imdb_title_basic_crew[imdb_title_basic_crew['primary_title'].isin(top_recent_gross_title)]\n",
    "\n",
    "#gross_imdb_directors = gross_imdb['directors'].value_counts()[:10]\n",
    "#bar_height = list(gross_imdb['directors'].value_counts()[:10].values)\n",
    "\n",
    "#fig, ax = plt.subplots()\n",
    "#ax.bar(x = gross_imdb_directors.index, height = bar_height)\n"
   ]
  },
  {
   "cell_type": "code",
   "execution_count": 130,
   "metadata": {},
   "outputs": [],
   "source": [
    "#best_director = gross_imdb['directors'].value_counts().index[0]\n",
    "#best_director\n",
    "#imdb_name_basics[imdb_name_basics['nconst'] == est_director]\n"
   ]
  },
  {
   "cell_type": "markdown",
   "metadata": {},
   "source": [
    "# Top Directors and Writers by Genre"
   ]
  },
  {
   "cell_type": "code",
   "execution_count": null,
   "metadata": {},
   "outputs": [],
   "source": [
    "# Make dataset use for analysis\n",
    "\n",
    "#recent_bom_movie_gross = bom_movie_gross[bom_movie_gross['year'] >= 2014]\n",
    "#imdb_title_basic_crew = imdb_title_basics.merge(imdb_title_crew, how = 'inner')\n",
    "#imdb_with_gross = imdb_title_basic_crew.merge(recent_bom_movie_gross, how = 'inner', left_on = 'primary_title', right_on = 'title')\n",
    "#imdb_with_gross_year = imdb_with_gross[imdb_with_gross['year'] == imdb_with_gross['start_year']]\n",
    "\n",
    "\n",
    "#\n",
    "\n",
    "split_directors = top_100_gross_films.assign(directors=top_100_gross_films.directors.str.split(\",\")).explode('directors')\n",
    "gross_imdb_directors_100 = split_directors['directors'].value_counts()[:12]"
   ]
  },
  {
   "cell_type": "markdown",
   "metadata": {},
   "source": [
    "# Top 100 Grossing Movies - Directors"
   ]
  },
  {
   "cell_type": "code",
   "execution_count": 15,
   "metadata": {},
   "outputs": [
    {
     "data": {
      "text/html": [
       "<div>\n",
       "<style scoped>\n",
       "    .dataframe tbody tr th:only-of-type {\n",
       "        vertical-align: middle;\n",
       "    }\n",
       "\n",
       "    .dataframe tbody tr th {\n",
       "        vertical-align: top;\n",
       "    }\n",
       "\n",
       "    .dataframe thead th {\n",
       "        text-align: right;\n",
       "    }\n",
       "</style>\n",
       "<table border=\"1\" class=\"dataframe\">\n",
       "  <thead>\n",
       "    <tr style=\"text-align: right;\">\n",
       "      <th></th>\n",
       "      <th>tconst</th>\n",
       "      <th>primary_title</th>\n",
       "      <th>original_title</th>\n",
       "      <th>start_year</th>\n",
       "      <th>runtime_minutes</th>\n",
       "      <th>genres</th>\n",
       "      <th>directors</th>\n",
       "      <th>writers</th>\n",
       "      <th>title</th>\n",
       "      <th>studio</th>\n",
       "      <th>domestic_gross</th>\n",
       "      <th>foreign_gross</th>\n",
       "      <th>year</th>\n",
       "    </tr>\n",
       "  </thead>\n",
       "  <tbody>\n",
       "    <tr>\n",
       "      <th>0</th>\n",
       "      <td>tt0451279</td>\n",
       "      <td>Wonder Woman</td>\n",
       "      <td>Wonder Woman</td>\n",
       "      <td>2017</td>\n",
       "      <td>141.0</td>\n",
       "      <td>Action,Adventure,Fantasy</td>\n",
       "      <td>nm0420941</td>\n",
       "      <td>nm0374302,nm0811583,nm0297229,nm0551376,nm4243936</td>\n",
       "      <td>Wonder Woman</td>\n",
       "      <td>WB</td>\n",
       "      <td>412600000.0</td>\n",
       "      <td>409300000</td>\n",
       "      <td>2017</td>\n",
       "    </tr>\n",
       "    <tr>\n",
       "      <th>5</th>\n",
       "      <td>tt7959026</td>\n",
       "      <td>The Mule</td>\n",
       "      <td>The Mule</td>\n",
       "      <td>2018</td>\n",
       "      <td>116.0</td>\n",
       "      <td>Crime,Drama,Thriller</td>\n",
       "      <td>nm0000142</td>\n",
       "      <td>nm10095627,nm1010405</td>\n",
       "      <td>The Mule</td>\n",
       "      <td>WB</td>\n",
       "      <td>103800000.0</td>\n",
       "      <td>68700000</td>\n",
       "      <td>2018</td>\n",
       "    </tr>\n",
       "    <tr>\n",
       "      <th>6</th>\n",
       "      <td>tt0918940</td>\n",
       "      <td>The Legend of Tarzan</td>\n",
       "      <td>The Legend of Tarzan</td>\n",
       "      <td>2016</td>\n",
       "      <td>110.0</td>\n",
       "      <td>Action,Adventure,Drama</td>\n",
       "      <td>nm0946734</td>\n",
       "      <td>nm3092414,nm0108132,nm0123194</td>\n",
       "      <td>The Legend of Tarzan</td>\n",
       "      <td>WB</td>\n",
       "      <td>126600000.0</td>\n",
       "      <td>230100000</td>\n",
       "      <td>2016</td>\n",
       "    </tr>\n",
       "    <tr>\n",
       "      <th>7</th>\n",
       "      <td>tt0974015</td>\n",
       "      <td>Justice League</td>\n",
       "      <td>Justice League</td>\n",
       "      <td>2017</td>\n",
       "      <td>120.0</td>\n",
       "      <td>Action,Adventure,Fantasy</td>\n",
       "      <td>nm0811583</td>\n",
       "      <td>nm0796950,nm0795975,nm0006516,nm0811583,nm0923...</td>\n",
       "      <td>Justice League</td>\n",
       "      <td>WB</td>\n",
       "      <td>229000000.0</td>\n",
       "      <td>428900000</td>\n",
       "      <td>2017</td>\n",
       "    </tr>\n",
       "    <tr>\n",
       "      <th>9</th>\n",
       "      <td>tt2380307</td>\n",
       "      <td>Coco</td>\n",
       "      <td>Coco</td>\n",
       "      <td>2017</td>\n",
       "      <td>105.0</td>\n",
       "      <td>Adventure,Animation,Comedy</td>\n",
       "      <td>nm0881279,nm2937122</td>\n",
       "      <td>nm0881279,nm0441735,nm0017690,nm2937122</td>\n",
       "      <td>Coco</td>\n",
       "      <td>BV</td>\n",
       "      <td>209700000.0</td>\n",
       "      <td>597400000</td>\n",
       "      <td>2017</td>\n",
       "    </tr>\n",
       "  </tbody>\n",
       "</table>\n",
       "</div>"
      ],
      "text/plain": [
       "      tconst         primary_title        original_title  start_year  \\\n",
       "0  tt0451279          Wonder Woman          Wonder Woman        2017   \n",
       "5  tt7959026              The Mule              The Mule        2018   \n",
       "6  tt0918940  The Legend of Tarzan  The Legend of Tarzan        2016   \n",
       "7  tt0974015        Justice League        Justice League        2017   \n",
       "9  tt2380307                  Coco                  Coco        2017   \n",
       "\n",
       "   runtime_minutes                      genres            directors  \\\n",
       "0            141.0    Action,Adventure,Fantasy            nm0420941   \n",
       "5            116.0        Crime,Drama,Thriller            nm0000142   \n",
       "6            110.0      Action,Adventure,Drama            nm0946734   \n",
       "7            120.0    Action,Adventure,Fantasy            nm0811583   \n",
       "9            105.0  Adventure,Animation,Comedy  nm0881279,nm2937122   \n",
       "\n",
       "                                             writers                 title  \\\n",
       "0  nm0374302,nm0811583,nm0297229,nm0551376,nm4243936          Wonder Woman   \n",
       "5                               nm10095627,nm1010405              The Mule   \n",
       "6                      nm3092414,nm0108132,nm0123194  The Legend of Tarzan   \n",
       "7  nm0796950,nm0795975,nm0006516,nm0811583,nm0923...        Justice League   \n",
       "9            nm0881279,nm0441735,nm0017690,nm2937122                  Coco   \n",
       "\n",
       "  studio  domestic_gross foreign_gross  year  \n",
       "0     WB     412600000.0     409300000  2017  \n",
       "5     WB     103800000.0      68700000  2018  \n",
       "6     WB     126600000.0     230100000  2016  \n",
       "7     WB     229000000.0     428900000  2017  \n",
       "9     BV     209700000.0     597400000  2017  "
      ]
     },
     "execution_count": 15,
     "metadata": {},
     "output_type": "execute_result"
    }
   ],
   "source": [
    "recent_bom_movie_gross = bom_movie_gross[bom_movie_gross['year'] >= 2016]\n",
    "top_recent_gross_100 = recent_bom_movie_gross['domestic_gross'].sort_values(ascending = False)[:124]\n",
    "gross_title_100 = [bom_movie_gross['title'].iloc[film] for film in top_recent_gross_100.index]\n",
    "bom_movie_gross_top = bom_movie_gross[bom_movie_gross['title'].isin(gross_title_100)]\n",
    "\n",
    "top_100_films = imdb_title_basic_crew.merge(bom_movie_gross_top, how = 'inner', left_on = 'primary_title', right_on = 'title')\n",
    "\n",
    "top_100_gross_films = top_100_films[top_100_films['year'] == top_100_films['start_year']]\n",
    "\n",
    "#gross_imdb_directors_100 = gross_imdb_100['directors'].value_counts()[:10]\n",
    "#bar_height = list(gross_imdb_100['directors'].value_counts()[:10].values)\n",
    "\n",
    "#fig, ax = plt.subplots()\n",
    "#ax.bar(x = gross_imdb_directors_100.index, height = bar_height)"
   ]
  },
  {
   "cell_type": "code",
   "execution_count": 133,
   "metadata": {},
   "outputs": [
    {
     "data": {
      "text/html": [
       "<div>\n",
       "<style scoped>\n",
       "    .dataframe tbody tr th:only-of-type {\n",
       "        vertical-align: middle;\n",
       "    }\n",
       "\n",
       "    .dataframe tbody tr th {\n",
       "        vertical-align: top;\n",
       "    }\n",
       "\n",
       "    .dataframe thead th {\n",
       "        text-align: right;\n",
       "    }\n",
       "</style>\n",
       "<table border=\"1\" class=\"dataframe\">\n",
       "  <thead>\n",
       "    <tr style=\"text-align: right;\">\n",
       "      <th></th>\n",
       "      <th>nconst</th>\n",
       "      <th>primary_name</th>\n",
       "      <th>birth_year</th>\n",
       "      <th>death_year</th>\n",
       "      <th>primary_profession</th>\n",
       "      <th>known_for_titles</th>\n",
       "    </tr>\n",
       "  </thead>\n",
       "  <tbody>\n",
       "    <tr>\n",
       "      <th>24027</th>\n",
       "      <td>nm0000142</td>\n",
       "      <td>Clint Eastwood</td>\n",
       "      <td>1930.0</td>\n",
       "      <td>NaN</td>\n",
       "      <td>actor,producer,director</td>\n",
       "      <td>tt0405159,tt0105695,tt1205489,tt0112579</td>\n",
       "    </tr>\n",
       "    <tr>\n",
       "      <th>31594</th>\n",
       "      <td>nm0001741</td>\n",
       "      <td>Bryan Singer</td>\n",
       "      <td>1965.0</td>\n",
       "      <td>NaN</td>\n",
       "      <td>producer,director,writer</td>\n",
       "      <td>tt0120903,tt0114814,tt1877832,tt0348150</td>\n",
       "    </tr>\n",
       "    <tr>\n",
       "      <th>46677</th>\n",
       "      <td>nm0001226</td>\n",
       "      <td>James Foley</td>\n",
       "      <td>1953.0</td>\n",
       "      <td>NaN</td>\n",
       "      <td>director,writer,actor</td>\n",
       "      <td>tt0104348,tt0090670,tt4477536,tt1856010</td>\n",
       "    </tr>\n",
       "    <tr>\n",
       "      <th>71846</th>\n",
       "      <td>nm0811583</td>\n",
       "      <td>Zack Snyder</td>\n",
       "      <td>1966.0</td>\n",
       "      <td>NaN</td>\n",
       "      <td>producer,director,writer</td>\n",
       "      <td>tt0770828,tt0451279,tt0409459,tt0416449</td>\n",
       "    </tr>\n",
       "    <tr>\n",
       "      <th>115868</th>\n",
       "      <td>nm1490123</td>\n",
       "      <td>James Wan</td>\n",
       "      <td>1977.0</td>\n",
       "      <td>NaN</td>\n",
       "      <td>producer,writer,director</td>\n",
       "      <td>tt1457767,tt0387564,tt3065204,tt2820852</td>\n",
       "    </tr>\n",
       "    <tr>\n",
       "      <th>118023</th>\n",
       "      <td>nm0946734</td>\n",
       "      <td>David Yates</td>\n",
       "      <td>1963.0</td>\n",
       "      <td>NaN</td>\n",
       "      <td>director,producer,writer</td>\n",
       "      <td>tt0918940,tt0373889,tt1201607,tt0926084</td>\n",
       "    </tr>\n",
       "  </tbody>\n",
       "</table>\n",
       "</div>"
      ],
      "text/plain": [
       "           nconst    primary_name  birth_year  death_year  \\\n",
       "24027   nm0000142  Clint Eastwood      1930.0         NaN   \n",
       "31594   nm0001741    Bryan Singer      1965.0         NaN   \n",
       "46677   nm0001226     James Foley      1953.0         NaN   \n",
       "71846   nm0811583     Zack Snyder      1966.0         NaN   \n",
       "115868  nm1490123       James Wan      1977.0         NaN   \n",
       "118023  nm0946734     David Yates      1963.0         NaN   \n",
       "\n",
       "              primary_profession                         known_for_titles  \n",
       "24027    actor,producer,director  tt0405159,tt0105695,tt1205489,tt0112579  \n",
       "31594   producer,director,writer  tt0120903,tt0114814,tt1877832,tt0348150  \n",
       "46677      director,writer,actor  tt0104348,tt0090670,tt4477536,tt1856010  \n",
       "71846   producer,director,writer  tt0770828,tt0451279,tt0409459,tt0416449  \n",
       "115868  producer,writer,director  tt1457767,tt0387564,tt3065204,tt2820852  \n",
       "118023  director,producer,writer  tt0918940,tt0373889,tt1201607,tt0926084  "
      ]
     },
     "execution_count": 133,
     "metadata": {},
     "output_type": "execute_result"
    }
   ],
   "source": [
    "#best_director = gross_imdb_100['directors'].value_counts().index[:7]\n",
    "#best_director_list = list(best_director)\n",
    "#best_director_list\n",
    "     \n",
    "#names = imdb_name_basics[imdb_name_basics['nconst'].isin(best_director_list)]\n"
   ]
  },
  {
   "cell_type": "markdown",
   "metadata": {},
   "source": [
    "# Top 100 Grossing Movies - Split up directors"
   ]
  },
  {
   "cell_type": "code",
   "execution_count": 18,
   "metadata": {},
   "outputs": [
    {
     "data": {
      "text/plain": [
       "<BarContainer object of 12 artists>"
      ]
     },
     "execution_count": 18,
     "metadata": {},
     "output_type": "execute_result"
    },
    {
     "data": {
      "image/png": "[encoded data removed]",
      "text/plain": [
       "<Figure size 864x864 with 1 Axes>"
      ]
     },
     "metadata": {
      "needs_background": "light"
     },
     "output_type": "display_data"
    }
   ],
   "source": [
    "split_directors = top_100_gross_films.assign(directors=top_100_gross_films.directors.str.split(\",\")).explode('directors')\n",
    "\n",
    "gross_imdb_directors_100 = split_directors['directors'].value_counts()[:12]\n",
    "bar_height = list(split_directors['directors'].value_counts()[:12].values)\n",
    "\n",
    "fig, ax = plt.subplots(figsize = (12, 12))\n",
    "ax.bar(x = gross_imdb_directors_100.index, height = bar_height)"
   ]
  },
  {
   "cell_type": "code",
   "execution_count": 19,
   "metadata": {},
   "outputs": [
    {
     "data": {
      "text/html": [
       "<div>\n",
       "<style scoped>\n",
       "    .dataframe tbody tr th:only-of-type {\n",
       "        vertical-align: middle;\n",
       "    }\n",
       "\n",
       "    .dataframe tbody tr th {\n",
       "        vertical-align: top;\n",
       "    }\n",
       "\n",
       "    .dataframe thead th {\n",
       "        text-align: right;\n",
       "    }\n",
       "</style>\n",
       "<table border=\"1\" class=\"dataframe\">\n",
       "  <thead>\n",
       "    <tr style=\"text-align: right;\">\n",
       "      <th></th>\n",
       "      <th>nconst</th>\n",
       "      <th>primary_name</th>\n",
       "      <th>birth_year</th>\n",
       "      <th>death_year</th>\n",
       "      <th>primary_profession</th>\n",
       "      <th>known_for_titles</th>\n",
       "    </tr>\n",
       "  </thead>\n",
       "  <tbody>\n",
       "    <tr>\n",
       "      <th>2797</th>\n",
       "      <td>nm0751648</td>\n",
       "      <td>Joe Russo</td>\n",
       "      <td>1971.0</td>\n",
       "      <td>NaN</td>\n",
       "      <td>producer,director,writer</td>\n",
       "      <td>tt4154756,tt4154796,tt1843866,tt3498820</td>\n",
       "    </tr>\n",
       "    <tr>\n",
       "      <th>24027</th>\n",
       "      <td>nm0000142</td>\n",
       "      <td>Clint Eastwood</td>\n",
       "      <td>1930.0</td>\n",
       "      <td>NaN</td>\n",
       "      <td>actor,producer,director</td>\n",
       "      <td>tt0405159,tt0105695,tt1205489,tt0112579</td>\n",
       "    </tr>\n",
       "    <tr>\n",
       "      <th>31594</th>\n",
       "      <td>nm0001741</td>\n",
       "      <td>Bryan Singer</td>\n",
       "      <td>1965.0</td>\n",
       "      <td>NaN</td>\n",
       "      <td>producer,director,writer</td>\n",
       "      <td>tt0120903,tt0114814,tt1877832,tt0348150</td>\n",
       "    </tr>\n",
       "    <tr>\n",
       "      <th>46677</th>\n",
       "      <td>nm0001226</td>\n",
       "      <td>James Foley</td>\n",
       "      <td>1953.0</td>\n",
       "      <td>NaN</td>\n",
       "      <td>director,writer,actor</td>\n",
       "      <td>tt0104348,tt0090670,tt4477536,tt1856010</td>\n",
       "    </tr>\n",
       "    <tr>\n",
       "      <th>49375</th>\n",
       "      <td>nm0751577</td>\n",
       "      <td>Anthony Russo</td>\n",
       "      <td>1970.0</td>\n",
       "      <td>NaN</td>\n",
       "      <td>producer,director,writer</td>\n",
       "      <td>tt1843866,tt4154756,tt3498820,tt4154796</td>\n",
       "    </tr>\n",
       "    <tr>\n",
       "      <th>71846</th>\n",
       "      <td>nm0811583</td>\n",
       "      <td>Zack Snyder</td>\n",
       "      <td>1966.0</td>\n",
       "      <td>NaN</td>\n",
       "      <td>producer,director,writer</td>\n",
       "      <td>tt0770828,tt0451279,tt0409459,tt0416449</td>\n",
       "    </tr>\n",
       "    <tr>\n",
       "      <th>85758</th>\n",
       "      <td>nm0000229</td>\n",
       "      <td>Steven Spielberg</td>\n",
       "      <td>1946.0</td>\n",
       "      <td>NaN</td>\n",
       "      <td>producer,writer,director</td>\n",
       "      <td>tt0108052,tt0082971,tt0083866,tt0120815</td>\n",
       "    </tr>\n",
       "    <tr>\n",
       "      <th>98976</th>\n",
       "      <td>nm0898288</td>\n",
       "      <td>Denis Villeneuve</td>\n",
       "      <td>1967.0</td>\n",
       "      <td>NaN</td>\n",
       "      <td>director,writer,editor</td>\n",
       "      <td>tt1856101,tt2543164,tt3397884,tt1255953</td>\n",
       "    </tr>\n",
       "    <tr>\n",
       "      <th>115868</th>\n",
       "      <td>nm1490123</td>\n",
       "      <td>James Wan</td>\n",
       "      <td>1977.0</td>\n",
       "      <td>NaN</td>\n",
       "      <td>producer,writer,director</td>\n",
       "      <td>tt1457767,tt0387564,tt3065204,tt2820852</td>\n",
       "    </tr>\n",
       "    <tr>\n",
       "      <th>118023</th>\n",
       "      <td>nm0946734</td>\n",
       "      <td>David Yates</td>\n",
       "      <td>1963.0</td>\n",
       "      <td>NaN</td>\n",
       "      <td>director,producer,writer</td>\n",
       "      <td>tt0918940,tt0373889,tt1201607,tt0926084</td>\n",
       "    </tr>\n",
       "    <tr>\n",
       "      <th>141741</th>\n",
       "      <td>nm0601781</td>\n",
       "      <td>Rich Moore</td>\n",
       "      <td>1963.0</td>\n",
       "      <td>NaN</td>\n",
       "      <td>miscellaneous,director,art_department</td>\n",
       "      <td>tt2948356,tt5848272,tt1772341,tt0149460</td>\n",
       "    </tr>\n",
       "  </tbody>\n",
       "</table>\n",
       "</div>"
      ],
      "text/plain": [
       "           nconst      primary_name  birth_year  death_year  \\\n",
       "2797    nm0751648         Joe Russo      1971.0         NaN   \n",
       "24027   nm0000142    Clint Eastwood      1930.0         NaN   \n",
       "31594   nm0001741      Bryan Singer      1965.0         NaN   \n",
       "46677   nm0001226       James Foley      1953.0         NaN   \n",
       "49375   nm0751577     Anthony Russo      1970.0         NaN   \n",
       "71846   nm0811583       Zack Snyder      1966.0         NaN   \n",
       "85758   nm0000229  Steven Spielberg      1946.0         NaN   \n",
       "98976   nm0898288  Denis Villeneuve      1967.0         NaN   \n",
       "115868  nm1490123         James Wan      1977.0         NaN   \n",
       "118023  nm0946734       David Yates      1963.0         NaN   \n",
       "141741  nm0601781        Rich Moore      1963.0         NaN   \n",
       "\n",
       "                           primary_profession  \\\n",
       "2797                 producer,director,writer   \n",
       "24027                 actor,producer,director   \n",
       "31594                producer,director,writer   \n",
       "46677                   director,writer,actor   \n",
       "49375                producer,director,writer   \n",
       "71846                producer,director,writer   \n",
       "85758                producer,writer,director   \n",
       "98976                  director,writer,editor   \n",
       "115868               producer,writer,director   \n",
       "118023               director,producer,writer   \n",
       "141741  miscellaneous,director,art_department   \n",
       "\n",
       "                               known_for_titles  \n",
       "2797    tt4154756,tt4154796,tt1843866,tt3498820  \n",
       "24027   tt0405159,tt0105695,tt1205489,tt0112579  \n",
       "31594   tt0120903,tt0114814,tt1877832,tt0348150  \n",
       "46677   tt0104348,tt0090670,tt4477536,tt1856010  \n",
       "49375   tt1843866,tt4154756,tt3498820,tt4154796  \n",
       "71846   tt0770828,tt0451279,tt0409459,tt0416449  \n",
       "85758   tt0108052,tt0082971,tt0083866,tt0120815  \n",
       "98976   tt1856101,tt2543164,tt3397884,tt1255953  \n",
       "115868  tt1457767,tt0387564,tt3065204,tt2820852  \n",
       "118023  tt0918940,tt0373889,tt1201607,tt0926084  \n",
       "141741  tt2948356,tt5848272,tt1772341,tt0149460  "
      ]
     },
     "execution_count": 19,
     "metadata": {},
     "output_type": "execute_result"
    }
   ],
   "source": [
    "best_director = split_directors['directors'].value_counts().index[:11]\n",
    "best_director_list = list(best_director)\n",
    "best_director_list\n",
    "     \n",
    "names = imdb_name_basics[imdb_name_basics['nconst'].isin(best_director_list)]\n",
    "names"
   ]
  },
  {
   "cell_type": "markdown",
   "metadata": {},
   "source": [
    "# Directors With Highest Total Domestic Gross In Last Five Years"
   ]
  },
  {
   "cell_type": "code",
   "execution_count": 91,
   "metadata": {},
   "outputs": [
    {
     "data": {
      "text/plain": [
       "<BarContainer object of 10 artists>"
      ]
     },
     "execution_count": 91,
     "metadata": {},
     "output_type": "execute_result"
    },
    {
     "data": {
      "image/png": "[encoded data removed]",
      "text/plain": [
       "<Figure size 864x864 with 1 Axes>"
      ]
     },
     "metadata": {
      "needs_background": "light"
     },
     "output_type": "display_data"
    }
   ],
   "source": [
    "recent_bom_movie_gross = bom_movie_gross[bom_movie_gross['year'] >= 2014]\n",
    "imdb_title_basic_crew = imdb_title_basics.merge(imdb_title_crew, how = 'inner')\n",
    "imdb_with_gross = imdb_title_basic_crew.merge(recent_bom_movie_gross, how = 'inner', left_on = 'primary_title', right_on = 'title')\n",
    "imdb_with_gross_year = imdb_with_gross[imdb_with_gross['year'] == imdb_with_gross['start_year']]\n",
    "\n",
    "#COME BACK HERE LATER\n",
    "#26 movies with duplicate titles still\n",
    "#whoops = imdb_with_gross_year['primary_title'].value_counts()\n",
    "\n",
    "\n",
    "split_directors = imdb_with_gross_year.assign(directors=imdb_with_gross_year.directors.str.split(\",\")).explode('directors')\n",
    "top_grossing_directors = split_directors.groupby('directors')['domestic_gross'].sum().sort_values(ascending = False)[:10]\n",
    "\n",
    "fig, ax = plt.subplots(figsize = (12,12))\n",
    "ax.bar(x = top_grossing_directors.index, height = top_grossing_directors.values)\n"
   ]
  },
  {
   "cell_type": "code",
   "execution_count": 92,
   "metadata": {},
   "outputs": [
    {
     "data": {
      "text/html": [
       "<div>\n",
       "<style scoped>\n",
       "    .dataframe tbody tr th:only-of-type {\n",
       "        vertical-align: middle;\n",
       "    }\n",
       "\n",
       "    .dataframe tbody tr th {\n",
       "        vertical-align: top;\n",
       "    }\n",
       "\n",
       "    .dataframe thead th {\n",
       "        text-align: right;\n",
       "    }\n",
       "</style>\n",
       "<table border=\"1\" class=\"dataframe\">\n",
       "  <thead>\n",
       "    <tr style=\"text-align: right;\">\n",
       "      <th></th>\n",
       "      <th>nconst</th>\n",
       "      <th>primary_name</th>\n",
       "      <th>birth_year</th>\n",
       "      <th>death_year</th>\n",
       "      <th>primary_profession</th>\n",
       "      <th>known_for_titles</th>\n",
       "    </tr>\n",
       "  </thead>\n",
       "  <tbody>\n",
       "    <tr>\n",
       "      <th>2797</th>\n",
       "      <td>nm0751648</td>\n",
       "      <td>Joe Russo</td>\n",
       "      <td>1971.0</td>\n",
       "      <td>NaN</td>\n",
       "      <td>producer,director,writer</td>\n",
       "      <td>tt4154756,tt4154796,tt1843866,tt3498820</td>\n",
       "    </tr>\n",
       "    <tr>\n",
       "      <th>49375</th>\n",
       "      <td>nm0751577</td>\n",
       "      <td>Anthony Russo</td>\n",
       "      <td>1970.0</td>\n",
       "      <td>NaN</td>\n",
       "      <td>producer,director,writer</td>\n",
       "      <td>tt1843866,tt4154756,tt3498820,tt4154796</td>\n",
       "    </tr>\n",
       "  </tbody>\n",
       "</table>\n",
       "</div>"
      ],
      "text/plain": [
       "          nconst   primary_name  birth_year  death_year  \\\n",
       "2797   nm0751648      Joe Russo      1971.0         NaN   \n",
       "49375  nm0751577  Anthony Russo      1970.0         NaN   \n",
       "\n",
       "             primary_profession                         known_for_titles  \n",
       "2797   producer,director,writer  tt4154756,tt4154796,tt1843866,tt3498820  \n",
       "49375  producer,director,writer  tt1843866,tt4154756,tt3498820,tt4154796  "
      ]
     },
     "execution_count": 92,
     "metadata": {},
     "output_type": "execute_result"
    }
   ],
   "source": [
    "best_director = top_grossing_directors.index[:2]\n",
    "best_director_list = list(best_director)\n",
    "best_director_list\n",
    "     \n",
    "names = imdb_name_basics[imdb_name_basics['nconst'].isin(best_director_list)]\n",
    "names"
   ]
  },
  {
   "cell_type": "markdown",
   "metadata": {},
   "source": [
    "# Directors With Highest Total Domestic Gross In Last Five Years"
   ]
  },
  {
   "cell_type": "code",
   "execution_count": 55,
   "metadata": {},
   "outputs": [],
   "source": [
    "recent_bom_movie_gross = bom_movie_gross[bom_movie_gross['year'] >= 2014]\n",
    "imdb_title_basic_crew = imdb_title_basics.merge(imdb_title_crew, how = 'inner')\n",
    "imdb_with_gross = imdb_title_basic_crew.merge(recent_bom_movie_gross, how = 'inner', left_on = 'primary_title', right_on = 'title')\n",
    "imdb_with_gross_year = imdb_with_gross[imdb_with_gross['year'] == imdb_with_gross['start_year']]\n",
    "\n",
    "#Need to clean foreign gross and combine to get better look at total gross\n",
    "\n",
    "#imdb_with_gross_year['total_gross'] = imdb_with_gross_year['domestic_gross'] + imdb_with_gross_year['foreign_gross']\n",
    "#imdb_with_gross_year['foreign_gross'] = imdb_with_gross_year['foreign_gross'].fillna(value = '0')\n",
    "\n",
    "#imdb_with_gross_year[\"foreign_gross_clean\"] = imdb_with_gross_year['foreign_gross'].str.replace('[^\\w\\s]','')\n",
    "#imdb_with_gross_year['foreign_gross'] = imdb_with_gross_year['foreign_gross'].astype(float)\n",
    "\n"
   ]
  },
  {
   "cell_type": "markdown",
   "metadata": {},
   "source": [
    "# Directors With Highest Total Domestic Gross In Last Five Years Other Data"
   ]
  },
  {
   "cell_type": "code",
   "execution_count": 102,
   "metadata": {
    "scrolled": true
   },
   "outputs": [
    {
     "name": "stderr",
     "output_type": "stream",
     "text": [
      "<ipython-input-102-eecb17635e40>:17: SettingWithCopyWarning: \n",
      "A value is trying to be set on a copy of a slice from a DataFrame.\n",
      "Try using .loc[row_indexer,col_indexer] = value instead\n",
      "\n",
      "See the caveats in the documentation: https://pandas.pydata.org/pandas-docs/stable/user_guide/indexing.html#returning-a-view-versus-a-copy\n",
      "  recent_tn_movie_budgets['production_budget_clean'] = recent_tn_movie_budgets['production_budget'].apply(remove_punctuations).astype(int)\n"
     ]
    }
   ],
   "source": [
    "#recent_bom_movie_gross = bom_movie_gross[bom_movie_gross['year'] >= 2014]\n",
    "#imdb_title_basic_crew = imdb_title_basics.merge(imdb_title_crew, how = 'inner')\n",
    "#imdb_with_gross = imdb_title_basic_crew.merge(recent_bom_movie_gross, how = 'inner', left_on = 'primary_title', right_on = 'title')\n",
    "#imdb_with_gross_year = imdb_with_gross[imdb_with_gross['year'] == imdb_with_gross['start_year']]\n",
    "\n",
    "tn_movie_budgets['year_tn'] = tn_movie_budgets['release_date'].str[-4:]\n",
    "tn_movie_budgets['year_tn'] = tn_movie_budgets['year_tn'].astype(int)\n",
    "recent_tn_movie_budgets = tn_movie_budgets[tn_movie_budgets['year_tn'] >= 2014]\n",
    "\n",
    "\n",
    "def remove_punctuations(text):\n",
    "    punctuation = ['$', \",\"]\n",
    "    for punct in punctuation:\n",
    "        text = text.replace(punct, '')\n",
    "    return text\n",
    "\n",
    "recent_tn_movie_budgets['production_budget_clean'] = recent_tn_movie_budgets['production_budget'].apply(remove_punctuations).astype(int)\n",
    "#recent_tn_movie_budgets['production_budget_clean'] = recent_tn_movie_budgets['production_budget_clean'].astype(int)\n",
    "recent_tn_movie_budget = recent_tn_movie_budgets[['movie', 'year_tn', 'production_budget_clean']]\n"
   ]
  },
  {
   "cell_type": "code",
   "execution_count": 101,
   "metadata": {},
   "outputs": [
    {
     "data": {
      "text/html": [
       "<div>\n",
       "<style scoped>\n",
       "    .dataframe tbody tr th:only-of-type {\n",
       "        vertical-align: middle;\n",
       "    }\n",
       "\n",
       "    .dataframe tbody tr th {\n",
       "        vertical-align: top;\n",
       "    }\n",
       "\n",
       "    .dataframe thead th {\n",
       "        text-align: right;\n",
       "    }\n",
       "</style>\n",
       "<table border=\"1\" class=\"dataframe\">\n",
       "  <thead>\n",
       "    <tr style=\"text-align: right;\">\n",
       "      <th></th>\n",
       "      <th>domestic_gross</th>\n",
       "      <th>production_budget_clean</th>\n",
       "    </tr>\n",
       "    <tr>\n",
       "      <th>directors</th>\n",
       "      <th></th>\n",
       "      <th></th>\n",
       "    </tr>\n",
       "  </thead>\n",
       "  <tbody>\n",
       "    <tr>\n",
       "      <th>nm0751648</th>\n",
       "      <td>1.346700e+09</td>\n",
       "      <td>720000000</td>\n",
       "    </tr>\n",
       "    <tr>\n",
       "      <th>nm0751577</th>\n",
       "      <td>1.346700e+09</td>\n",
       "      <td>720000000</td>\n",
       "    </tr>\n",
       "    <tr>\n",
       "      <th>nm3363032</th>\n",
       "      <td>8.099000e+08</td>\n",
       "      <td>237000000</td>\n",
       "    </tr>\n",
       "    <tr>\n",
       "      <th>nm0083348</th>\n",
       "      <td>7.020000e+08</td>\n",
       "      <td>370000000</td>\n",
       "    </tr>\n",
       "    <tr>\n",
       "      <th>nm1490123</th>\n",
       "      <td>6.881000e+08</td>\n",
       "      <td>350000000</td>\n",
       "    </tr>\n",
       "    <tr>\n",
       "      <th>nm1349376</th>\n",
       "      <td>6.657000e+08</td>\n",
       "      <td>354000000</td>\n",
       "    </tr>\n",
       "    <tr>\n",
       "      <th>nm0000142</th>\n",
       "      <td>6.623000e+08</td>\n",
       "      <td>238000000</td>\n",
       "    </tr>\n",
       "    <tr>\n",
       "      <th>nm1119880</th>\n",
       "      <td>6.523000e+08</td>\n",
       "      <td>215000000</td>\n",
       "    </tr>\n",
       "    <tr>\n",
       "      <th>nm0001741</th>\n",
       "      <td>6.057000e+08</td>\n",
       "      <td>433000000</td>\n",
       "    </tr>\n",
       "    <tr>\n",
       "      <th>nm1853544</th>\n",
       "      <td>6.006000e+08</td>\n",
       "      <td>149000000</td>\n",
       "    </tr>\n",
       "  </tbody>\n",
       "</table>\n",
       "</div>"
      ],
      "text/plain": [
       "           domestic_gross  production_budget_clean\n",
       "directors                                         \n",
       "nm0751648    1.346700e+09                720000000\n",
       "nm0751577    1.346700e+09                720000000\n",
       "nm3363032    8.099000e+08                237000000\n",
       "nm0083348    7.020000e+08                370000000\n",
       "nm1490123    6.881000e+08                350000000\n",
       "nm1349376    6.657000e+08                354000000\n",
       "nm0000142    6.623000e+08                238000000\n",
       "nm1119880    6.523000e+08                215000000\n",
       "nm0001741    6.057000e+08                433000000\n",
       "nm1853544    6.006000e+08                149000000"
      ]
     },
     "execution_count": 101,
     "metadata": {},
     "output_type": "execute_result"
    }
   ],
   "source": [
    "imdb_bom_tn = imdb_with_gross_year.merge(recent_tn_movie_budget, how = 'inner', left_on = 'primary_title', right_on = 'movie')\n",
    "imdb_bom_tn_nodup = imdb_bom_tn[imdb_bom_tn['year_tn'] == imdb_bom_tn['start_year']]\n",
    "\n",
    "#When add in budgets get back half the data\n",
    "len(imdb_bom_tn_nodup)\n",
    "\n",
    "imdb_bom_tn_dirc = imdb_bom_tn_nodup.assign(directors=imdb_bom_tn_nodup.directors.str.split(\",\")).explode('directors')\n",
    "top_directors = imdb_bom_tn_dirc.groupby('directors')[['domestic_gross', 'production_budget_clean']].sum().sort_values(ascending = False, by = 'domestic_gross')[:10]\n",
    "\n",
    "#fig, ax = plt.subplots(figsize = (12,12))\n",
    "#ax.bar(x = top_grossing_directors.index, height = top_grossing_directors.values)\n",
    "\n"
   ]
  },
  {
   "cell_type": "markdown",
   "metadata": {},
   "source": [
    "# Why Not Use The Numbers For Gross?"
   ]
  },
  {
   "cell_type": "code",
   "execution_count": 78,
   "metadata": {},
   "outputs": [
    {
     "data": {
      "text/plain": [
       "1193"
      ]
     },
     "execution_count": 78,
     "metadata": {},
     "output_type": "execute_result"
    }
   ],
   "source": [
    "#The dataset that results after looking at most recent years is smaller\n",
    "\n",
    "tn_movie_budgets['year'] = tn_movie_budgets['release_date'].str[-4:]\n",
    "tn_movie_budgets['year'] = tn_movie_budgets['year'].astype(int)\n",
    "recent_tn_movie_budgets = tn_movie_budgets[tn_movie_budgets['year'] >= 2014]\n",
    "len(recent_tn_movie_budgets)"
   ]
  },
  {
   "cell_type": "markdown",
   "metadata": {},
   "source": [
    "# **** Grab Drama and Action Genres"
   ]
  },
  {
   "cell_type": "code",
   "execution_count": 6,
   "metadata": {},
   "outputs": [],
   "source": [
    "split_genres = imdb.assign(genres=imdb.genres.str.split(\",\")).explode('genres')\n",
    "\n",
    "drama_imdb = split_genres[split_genres['genres'] == 'Drama']\n",
    "action_imdb = split_genres[split_genres['genres'] == 'Action']"
   ]
  },
  {
   "cell_type": "markdown",
   "metadata": {},
   "source": [
    "# *** For Drama Genre, Recommended Director"
   ]
  },
  {
   "cell_type": "code",
   "execution_count": 6,
   "metadata": {},
   "outputs": [],
   "source": [
    "imdb_name_basics_slim = imdb_name_basics[['nconst', 'primary_name', 'death_year']]\n",
    "\n",
    "#Splits up any entry with multiple directors to single rows and merges with name_basics\n",
    "split_directors = drama_imdb.assign(directors=drama_imdb.directors.str.split(\",\")).explode('directors')\n",
    "to_be_or_not = split_directors.merge(imdb_name_basics, left_on = 'directors', right_on = 'nconst')\n",
    "to_be_or_not.head()\n",
    "\n",
    "#Gets rid of any dead directors\n",
    "alive_imdb_directors = to_be_or_not[to_be_or_not['death_year'].isna()]\n",
    "\n",
    "# Sort only directors who've directed three or more drama films in the last five years\n",
    "top_directors = alive_imdb_directors.groupby('primary_name')['tconst'].count().sort_values(ascending = False)\n",
    "top_directors_names = top_directors[top_directors.values > 2]\n",
    "names_list = list(top_directors_names.index.values)\n",
    "imdb_top_directors_drama = alive_imdb_directors[alive_imdb_directors['primary_name'].isin(names_list)]"
   ]
  },
  {
   "cell_type": "code",
   "execution_count": 7,
   "metadata": {},
   "outputs": [
    {
     "data": {
      "image/png": "[encoded data removed]",
      "text/plain": [
       "<Figure size 1296x576 with 1 Axes>"
      ]
     },
     "metadata": {
      "needs_background": "light"
     },
     "output_type": "display_data"
    }
   ],
   "source": [
    "#Just directors that have produced the most in that genre\n",
    "\"\"\"\"\n",
    "top_directors = alive_imdb_directors.groupby('primary_name')['tconst'].count().sort_values(ascending = False)[:10]\n",
    "\n",
    "fig, ax = plt.subplots(figsize = (18,12))\n",
    "ax.bar(x = top_directors.index, height = top_directors.values)\n",
    "ax.set_title('Directors Who Haved Directed The Most In X Genre')\n",
    "ax.set_ylabel('Count')\n",
    "ax.set_xlabel('Director Name');\n",
    "\"\"\"\n",
    "\n",
    "#**Directors with the best average rating for certain genre\n",
    "\n",
    "top_directors = imdb_top_directors_drama.groupby('primary_name')['averagerating'].mean().sort_values(ascending = False)[:10]\n",
    "\n",
    "fig, ax = plt.subplots(figsize = (18,8))\n",
    "ax.bar(x = top_directors.index, height = top_directors.values)\n",
    "ax.set_title('Directors Who Have The Highest Average Rating In The Drama Genre - Directed 3+ Movies')\n",
    "ax.set_ylabel('Average Rating')\n",
    "ax.set_xlabel('Director Name');\n"
   ]
  },
  {
   "cell_type": "markdown",
   "metadata": {},
   "source": [
    "# *** For Drama Genre, Recommended Writer"
   ]
  },
  {
   "cell_type": "code",
   "execution_count": 14,
   "metadata": {},
   "outputs": [],
   "source": [
    "split_writers = drama_imdb.assign(writers=drama_imdb.writers.str.split(\",\")).explode('writers')\n",
    "to_be_or_not2 = split_writers.merge(imdb_name_basics, left_on = 'writers', right_on = 'nconst')\n",
    "\n",
    "alive_imdb_writers = to_be_or_not2[to_be_or_not2['death_year'].isna()]\n",
    "\n",
    "top_writers = alive_imdb_writers.groupby('primary_name')['tconst'].count().sort_values(ascending = False)\n",
    "top_writers_names = top_writers[top_writers.values > 2]\n",
    "writer_names_list = list(top_writers_names.index.values)\n",
    "imdb_top_writers_drama = alive_imdb_writers[alive_imdb_writers['primary_name'].isin(writer_names_list)]"
   ]
  },
  {
   "cell_type": "code",
   "execution_count": 15,
   "metadata": {},
   "outputs": [
    {
     "data": {
      "image/png": "[encoded data removed]",
      "text/plain": [
       "<Figure size 1296x576 with 1 Axes>"
      ]
     },
     "metadata": {
      "needs_background": "light"
     },
     "output_type": "display_data"
    }
   ],
   "source": [
    "#Just writers that have written the most in that genre\n",
    "\"\"\"\n",
    "top_writers = alive_imdb_writers.groupby('primary_name')['tconst'].count().sort_values(ascending = False)[:10]\n",
    "\n",
    "fig, ax = plt.subplots(figsize = (18,12))\n",
    "ax.bar(x = top_writers.index, height = top_writers.values)\n",
    "ax.set_title('Writers Who Haved writtern The Most In X Genre')\n",
    "ax.set_ylabel('Count')\n",
    "ax.set_xlabel('Writer Name')\n",
    "\"\"\"\n",
    "\n",
    "#Writers with the best average rating for certain genre\n",
    "\n",
    "top_writers = imdb_top_writers_drama.groupby('primary_name')['averagerating'].mean().sort_values(ascending = False)[:10]\n",
    "\n",
    "fig, ax = plt.subplots(figsize = (18,8))\n",
    "ax.bar(x = top_writers.index, height = top_writers.values)\n",
    "ax.set_title('Writers Who Have The Highest Average Rating In The Drama Genre - Wrote 3+ Movies')\n",
    "ax.set_ylabel('Average Rating')\n",
    "ax.set_xlabel('Director Name');\n"
   ]
  },
  {
   "cell_type": "markdown",
   "metadata": {},
   "source": [
    "# *** For Action Genre, Top Directors"
   ]
  },
  {
   "cell_type": "code",
   "execution_count": 34,
   "metadata": {},
   "outputs": [],
   "source": [
    "#Splits up any entry with multiple directors to single rows and merges with name_basics\n",
    "split_directors = action_imdb.assign(directors=action_imdb.directors.str.split(\",\")).explode('directors')\n",
    "to_be_or_not = split_directors.merge(imdb_name_basics, left_on = 'directors', right_on = 'nconst')\n",
    "to_be_or_not.head()\n",
    "\n",
    "#Gets rid of any dead directors\n",
    "alive_imdb_directors = to_be_or_not[to_be_or_not['death_year'].isna()]\n",
    "\n",
    "# Sort only directors who've directed three or more drama films in the last five years\n",
    "top_directors = alive_imdb_directors.groupby('primary_name')['tconst'].count().sort_values(ascending = False)\n",
    "top_directors_names = top_directors[top_directors.values > 2]\n",
    "names_list = list(top_directors_names.index.values)\n",
    "imdb_top_directors_action = alive_imdb_directors[alive_imdb_directors['primary_name'].isin(names_list)]"
   ]
  },
  {
   "cell_type": "code",
   "execution_count": 40,
   "metadata": {},
   "outputs": [
    {
     "data": {
      "image/png": "[encoded data removed]",
      "text/plain": [
       "<Figure size 1152x720 with 1 Axes>"
      ]
     },
     "metadata": {
      "needs_background": "light"
     },
     "output_type": "display_data"
    }
   ],
   "source": [
    "top_directors = imdb_top_directors_action.groupby('primary_name')['averagerating'].mean().sort_values(ascending = False)[:10]\n",
    "\n",
    "fig, ax = plt.subplots(figsize = (16,10))\n",
    "sns.barplot(x = top_directors.index, y = top_directors.values)\n",
    "#ax.bar(x = top_directors.index, height = top_directors.values)\n",
    "ax.set_title('Directors Who Have The Highest Average Rating In The Action Genre - Directed 3+ Movies')\n",
    "ax.set_ylabel('Average Rating')\n",
    "ax.set_xlabel('Director Name');\n",
    "#plt.savefig('ActionDirect.png')"
   ]
  },
  {
   "cell_type": "markdown",
   "metadata": {},
   "source": [
    "# For Action Genre, Top Writers"
   ]
  },
  {
   "cell_type": "code",
   "execution_count": 41,
   "metadata": {},
   "outputs": [],
   "source": [
    "split_writers = action_imdb.assign(writers=action_imdb.writers.str.split(\",\")).explode('writers')\n",
    "to_be_or_not2 = split_writers.merge(imdb_name_basics, left_on = 'writers', right_on = 'nconst')\n",
    "\n",
    "alive_imdb_writers = to_be_or_not2[to_be_or_not2['death_year'].isna()]\n",
    "\n",
    "top_writers = alive_imdb_writers.groupby('primary_name')['tconst'].count().sort_values(ascending = False)\n",
    "top_writers_names = top_writers[top_writers.values > 2]\n",
    "names_list = list(top_writers_names.index.values)\n",
    "imdb_top_writers_action = alive_imdb_writers[alive_imdb_writers['primary_name'].isin(names_list)]"
   ]
  },
  {
   "cell_type": "code",
   "execution_count": 46,
   "metadata": {},
   "outputs": [
    {
     "data": {
      "image/png": "[encoded data removed]",
      "text/plain": [
       "<Figure size 1152x720 with 1 Axes>"
      ]
     },
     "metadata": {
      "needs_background": "light"
     },
     "output_type": "display_data"
    }
   ],
   "source": [
    "top_writers = imdb_top_writers_action.groupby('primary_name')['averagerating'].mean().sort_values(ascending = False)[:10]\n",
    "\n",
    "fig, ax = plt.subplots(figsize = (16,10))\n",
    "sns.barplot(x = top_writers.index, y = top_writers.values)\n",
    "#ax.bar(x = top_writers.index, height = top_writers.values)\n",
    "ax.set_title('Writers Who Have The Highest Average Rating In The Action Genre - Wrote 3+ Movies')\n",
    "ax.set_ylabel('Average Rating')\n",
    "ax.set_xlabel('Writer Name');\n",
    "#plt.savefig('ActionWriters.png')\n"
   ]
  },
  {
   "cell_type": "code",
   "execution_count": 20,
   "metadata": {},
   "outputs": [
    {
     "data": {
      "text/html": [
       "<div>\n",
       "<style scoped>\n",
       "    .dataframe tbody tr th:only-of-type {\n",
       "        vertical-align: middle;\n",
       "    }\n",
       "\n",
       "    .dataframe tbody tr th {\n",
       "        vertical-align: top;\n",
       "    }\n",
       "\n",
       "    .dataframe thead th {\n",
       "        text-align: right;\n",
       "    }\n",
       "</style>\n",
       "<table border=\"1\" class=\"dataframe\">\n",
       "  <thead>\n",
       "    <tr style=\"text-align: right;\">\n",
       "      <th></th>\n",
       "      <th>tconst</th>\n",
       "      <th>primary_title</th>\n",
       "      <th>start_year</th>\n",
       "      <th>genres</th>\n",
       "      <th>runtime_minutes</th>\n",
       "      <th>directors</th>\n",
       "      <th>writers</th>\n",
       "      <th>averagerating</th>\n",
       "      <th>numvotes</th>\n",
       "      <th>nconst</th>\n",
       "      <th>primary_name</th>\n",
       "      <th>birth_year</th>\n",
       "      <th>death_year</th>\n",
       "      <th>primary_profession</th>\n",
       "      <th>known_for_titles</th>\n",
       "    </tr>\n",
       "  </thead>\n",
       "  <tbody>\n",
       "    <tr>\n",
       "      <th>11</th>\n",
       "      <td>tt0369610</td>\n",
       "      <td>Jurassic World</td>\n",
       "      <td>2015</td>\n",
       "      <td>Action</td>\n",
       "      <td>124.0</td>\n",
       "      <td>nm1119880</td>\n",
       "      <td>nm0415425</td>\n",
       "      <td>7.0</td>\n",
       "      <td>539338</td>\n",
       "      <td>nm0415425</td>\n",
       "      <td>Rick Jaffa</td>\n",
       "      <td>1956.0</td>\n",
       "      <td>NaN</td>\n",
       "      <td>writer,producer,actor</td>\n",
       "      <td>tt1318514,tt2103281,tt3450958,tt0369610</td>\n",
       "    </tr>\n",
       "    <tr>\n",
       "      <th>12</th>\n",
       "      <td>tt1390411</td>\n",
       "      <td>In the Heart of the Sea</td>\n",
       "      <td>2015</td>\n",
       "      <td>Action</td>\n",
       "      <td>122.0</td>\n",
       "      <td>nm0000165</td>\n",
       "      <td>nm0415425</td>\n",
       "      <td>6.9</td>\n",
       "      <td>108628</td>\n",
       "      <td>nm0415425</td>\n",
       "      <td>Rick Jaffa</td>\n",
       "      <td>1956.0</td>\n",
       "      <td>NaN</td>\n",
       "      <td>writer,producer,actor</td>\n",
       "      <td>tt1318514,tt2103281,tt3450958,tt0369610</td>\n",
       "    </tr>\n",
       "    <tr>\n",
       "      <th>13</th>\n",
       "      <td>tt2103281</td>\n",
       "      <td>Dawn of the Planet of the Apes</td>\n",
       "      <td>2014</td>\n",
       "      <td>Action</td>\n",
       "      <td>130.0</td>\n",
       "      <td>nm0716257</td>\n",
       "      <td>nm0415425</td>\n",
       "      <td>7.6</td>\n",
       "      <td>390199</td>\n",
       "      <td>nm0415425</td>\n",
       "      <td>Rick Jaffa</td>\n",
       "      <td>1956.0</td>\n",
       "      <td>NaN</td>\n",
       "      <td>writer,producer,actor</td>\n",
       "      <td>tt1318514,tt2103281,tt3450958,tt0369610</td>\n",
       "    </tr>\n",
       "    <tr>\n",
       "      <th>14</th>\n",
       "      <td>tt3450958</td>\n",
       "      <td>War for the Planet of the Apes</td>\n",
       "      <td>2017</td>\n",
       "      <td>Action</td>\n",
       "      <td>140.0</td>\n",
       "      <td>nm0716257</td>\n",
       "      <td>nm0415425</td>\n",
       "      <td>7.5</td>\n",
       "      <td>201943</td>\n",
       "      <td>nm0415425</td>\n",
       "      <td>Rick Jaffa</td>\n",
       "      <td>1956.0</td>\n",
       "      <td>NaN</td>\n",
       "      <td>writer,producer,actor</td>\n",
       "      <td>tt1318514,tt2103281,tt3450958,tt0369610</td>\n",
       "    </tr>\n",
       "    <tr>\n",
       "      <th>15</th>\n",
       "      <td>tt0369610</td>\n",
       "      <td>Jurassic World</td>\n",
       "      <td>2015</td>\n",
       "      <td>Action</td>\n",
       "      <td>124.0</td>\n",
       "      <td>nm1119880</td>\n",
       "      <td>nm0798646</td>\n",
       "      <td>7.0</td>\n",
       "      <td>539338</td>\n",
       "      <td>nm0798646</td>\n",
       "      <td>Amanda Silver</td>\n",
       "      <td>1963.0</td>\n",
       "      <td>NaN</td>\n",
       "      <td>writer,producer,actress</td>\n",
       "      <td>tt2103281,tt1318514,tt0369610,tt3450958</td>\n",
       "    </tr>\n",
       "    <tr>\n",
       "      <th>...</th>\n",
       "      <td>...</td>\n",
       "      <td>...</td>\n",
       "      <td>...</td>\n",
       "      <td>...</td>\n",
       "      <td>...</td>\n",
       "      <td>...</td>\n",
       "      <td>...</td>\n",
       "      <td>...</td>\n",
       "      <td>...</td>\n",
       "      <td>...</td>\n",
       "      <td>...</td>\n",
       "      <td>...</td>\n",
       "      <td>...</td>\n",
       "      <td>...</td>\n",
       "      <td>...</td>\n",
       "    </tr>\n",
       "    <tr>\n",
       "      <th>2397</th>\n",
       "      <td>tt7063210</td>\n",
       "      <td>The Place</td>\n",
       "      <td>2017</td>\n",
       "      <td>Drama</td>\n",
       "      <td>105.0</td>\n",
       "      <td>nm0002645</td>\n",
       "      <td>nm0002645</td>\n",
       "      <td>7.1</td>\n",
       "      <td>6305</td>\n",
       "      <td>nm0002645</td>\n",
       "      <td>Paolo Genovese</td>\n",
       "      <td>1966.0</td>\n",
       "      <td>NaN</td>\n",
       "      <td>writer,director</td>\n",
       "      <td>tt7063210,tt4901306,tt1630637,tt0203584</td>\n",
       "    </tr>\n",
       "    <tr>\n",
       "      <th>2398</th>\n",
       "      <td>tt7489816</td>\n",
       "      <td>Nothing to Hide</td>\n",
       "      <td>2018</td>\n",
       "      <td>Drama</td>\n",
       "      <td>90.0</td>\n",
       "      <td>nm0146991</td>\n",
       "      <td>nm0002645</td>\n",
       "      <td>6.9</td>\n",
       "      <td>7585</td>\n",
       "      <td>nm0002645</td>\n",
       "      <td>Paolo Genovese</td>\n",
       "      <td>1966.0</td>\n",
       "      <td>NaN</td>\n",
       "      <td>writer,director</td>\n",
       "      <td>tt7063210,tt4901306,tt1630637,tt0203584</td>\n",
       "    </tr>\n",
       "    <tr>\n",
       "      <th>2475</th>\n",
       "      <td>tt5057140</td>\n",
       "      <td>Hold the Dark</td>\n",
       "      <td>2018</td>\n",
       "      <td>Drama</td>\n",
       "      <td>125.0</td>\n",
       "      <td>nm1099918</td>\n",
       "      <td>nm0086301</td>\n",
       "      <td>5.6</td>\n",
       "      <td>26796</td>\n",
       "      <td>nm0086301</td>\n",
       "      <td>Macon Blair</td>\n",
       "      <td>NaN</td>\n",
       "      <td>NaN</td>\n",
       "      <td>actor,writer,producer</td>\n",
       "      <td>tt4062536,tt2359024,tt1800302,tt0878695</td>\n",
       "    </tr>\n",
       "    <tr>\n",
       "      <th>2476</th>\n",
       "      <td>tt5710514</td>\n",
       "      <td>I Don't Feel at Home in This World Anymore.</td>\n",
       "      <td>2017</td>\n",
       "      <td>Drama</td>\n",
       "      <td>93.0</td>\n",
       "      <td>nm0086301</td>\n",
       "      <td>nm0086301</td>\n",
       "      <td>6.9</td>\n",
       "      <td>38259</td>\n",
       "      <td>nm0086301</td>\n",
       "      <td>Macon Blair</td>\n",
       "      <td>NaN</td>\n",
       "      <td>NaN</td>\n",
       "      <td>actor,writer,producer</td>\n",
       "      <td>tt4062536,tt2359024,tt1800302,tt0878695</td>\n",
       "    </tr>\n",
       "    <tr>\n",
       "      <th>2477</th>\n",
       "      <td>tt5717492</td>\n",
       "      <td>Small Crimes</td>\n",
       "      <td>2017</td>\n",
       "      <td>Drama</td>\n",
       "      <td>95.0</td>\n",
       "      <td>nm1414810</td>\n",
       "      <td>nm0086301</td>\n",
       "      <td>5.8</td>\n",
       "      <td>5501</td>\n",
       "      <td>nm0086301</td>\n",
       "      <td>Macon Blair</td>\n",
       "      <td>NaN</td>\n",
       "      <td>NaN</td>\n",
       "      <td>actor,writer,producer</td>\n",
       "      <td>tt4062536,tt2359024,tt1800302,tt0878695</td>\n",
       "    </tr>\n",
       "  </tbody>\n",
       "</table>\n",
       "<p>571 rows × 15 columns</p>\n",
       "</div>"
      ],
      "text/plain": [
       "         tconst                                primary_title  start_year  \\\n",
       "11    tt0369610                               Jurassic World        2015   \n",
       "12    tt1390411                      In the Heart of the Sea        2015   \n",
       "13    tt2103281               Dawn of the Planet of the Apes        2014   \n",
       "14    tt3450958               War for the Planet of the Apes        2017   \n",
       "15    tt0369610                               Jurassic World        2015   \n",
       "...         ...                                          ...         ...   \n",
       "2397  tt7063210                                    The Place        2017   \n",
       "2398  tt7489816                              Nothing to Hide        2018   \n",
       "2475  tt5057140                                Hold the Dark        2018   \n",
       "2476  tt5710514  I Don't Feel at Home in This World Anymore.        2017   \n",
       "2477  tt5717492                                 Small Crimes        2017   \n",
       "\n",
       "      genres  runtime_minutes  directors    writers  averagerating  numvotes  \\\n",
       "11    Action            124.0  nm1119880  nm0415425            7.0    539338   \n",
       "12    Action            122.0  nm0000165  nm0415425            6.9    108628   \n",
       "13    Action            130.0  nm0716257  nm0415425            7.6    390199   \n",
       "14    Action            140.0  nm0716257  nm0415425            7.5    201943   \n",
       "15    Action            124.0  nm1119880  nm0798646            7.0    539338   \n",
       "...      ...              ...        ...        ...            ...       ...   \n",
       "2397   Drama            105.0  nm0002645  nm0002645            7.1      6305   \n",
       "2398   Drama             90.0  nm0146991  nm0002645            6.9      7585   \n",
       "2475   Drama            125.0  nm1099918  nm0086301            5.6     26796   \n",
       "2476   Drama             93.0  nm0086301  nm0086301            6.9     38259   \n",
       "2477   Drama             95.0  nm1414810  nm0086301            5.8      5501   \n",
       "\n",
       "         nconst    primary_name  birth_year  death_year  \\\n",
       "11    nm0415425      Rick Jaffa      1956.0         NaN   \n",
       "12    nm0415425      Rick Jaffa      1956.0         NaN   \n",
       "13    nm0415425      Rick Jaffa      1956.0         NaN   \n",
       "14    nm0415425      Rick Jaffa      1956.0         NaN   \n",
       "15    nm0798646   Amanda Silver      1963.0         NaN   \n",
       "...         ...             ...         ...         ...   \n",
       "2397  nm0002645  Paolo Genovese      1966.0         NaN   \n",
       "2398  nm0002645  Paolo Genovese      1966.0         NaN   \n",
       "2475  nm0086301     Macon Blair         NaN         NaN   \n",
       "2476  nm0086301     Macon Blair         NaN         NaN   \n",
       "2477  nm0086301     Macon Blair         NaN         NaN   \n",
       "\n",
       "           primary_profession                         known_for_titles  \n",
       "11      writer,producer,actor  tt1318514,tt2103281,tt3450958,tt0369610  \n",
       "12      writer,producer,actor  tt1318514,tt2103281,tt3450958,tt0369610  \n",
       "13      writer,producer,actor  tt1318514,tt2103281,tt3450958,tt0369610  \n",
       "14      writer,producer,actor  tt1318514,tt2103281,tt3450958,tt0369610  \n",
       "15    writer,producer,actress  tt2103281,tt1318514,tt0369610,tt3450958  \n",
       "...                       ...                                      ...  \n",
       "2397          writer,director  tt7063210,tt4901306,tt1630637,tt0203584  \n",
       "2398          writer,director  tt7063210,tt4901306,tt1630637,tt0203584  \n",
       "2475    actor,writer,producer  tt4062536,tt2359024,tt1800302,tt0878695  \n",
       "2476    actor,writer,producer  tt4062536,tt2359024,tt1800302,tt0878695  \n",
       "2477    actor,writer,producer  tt4062536,tt2359024,tt1800302,tt0878695  \n",
       "\n",
       "[571 rows x 15 columns]"
      ]
     },
     "execution_count": 20,
     "metadata": {},
     "output_type": "execute_result"
    }
   ],
   "source": [
    "concat = pd.concat([imdb_top_writers_action, imdb_top_writers_drama])\n",
    "concat\n",
    "sns.barplot(data = df_melted, x = 'primary_name', y = 'Money', hue = 'Gross_Budget')"
   ]
  },
  {
   "cell_type": "markdown",
   "metadata": {},
   "source": [
    "# Director w/ Gross (Steal For Writers As Well)"
   ]
  },
  {
   "cell_type": "code",
   "execution_count": 28,
   "metadata": {},
   "outputs": [],
   "source": [
    "#Makes dataset with just gross income\n",
    "bom_movie_gross = pd.read_csv('Data/bom.movie_gross.csv.gz', compression='gzip')\n",
    "bom_movie_gross['foreign_gross_clean'] = bom_movie_gross['foreign_gross'].str.replace(\",\",\"\").astype(float)\n",
    "bom_movie_gross['total_gross'] = bom_movie_gross['foreign_gross_clean'] + bom_movie_gross['domestic_gross']\n",
    "bom_movie_gross_slim = bom_movie_gross[['title', 'year', 'total_gross']]\n",
    "\n",
    "#Merges and properly matches based on title and year\n",
    "imdb_with_gross = imdb.merge(bom_movie_gross_slim, how = 'inner', left_on = 'primary_title', right_on = 'title')\n",
    "imdb_with_gross = imdb_with_gross[imdb_with_gross['start_year'] == imdb_with_gross['year']]"
   ]
  },
  {
   "cell_type": "code",
   "execution_count": 70,
   "metadata": {},
   "outputs": [],
   "source": [
    "#Does above splitting of columns and sorts out dead people\n",
    "gross_split_directors = imdb_with_gross.assign(directors=imdb_with_gross.directors.str.split(\",\")).explode('directors')\n",
    "gross_to_be_or_not = gross_split_directors.merge(imdb_name_basics_slim, left_on = 'directors', right_on = 'nconst')\n",
    "\n",
    "gross_alive_imdb_directors = gross_to_be_or_not[gross_to_be_or_not['death_year'].isna()]\n"
   ]
  },
  {
   "cell_type": "code",
   "execution_count": 73,
   "metadata": {},
   "outputs": [
    {
     "data": {
      "image/png": "[encoded data removed]",
      "text/plain": [
       "<Figure size 1152x864 with 1 Axes>"
      ]
     },
     "metadata": {
      "needs_background": "light"
     },
     "output_type": "display_data"
    }
   ],
   "source": [
    "gross_directors = gross_alive_imdb_directors.groupby('primary_name')['total_gross'].mean().sort_values(ascending = False)[:10]\n",
    "\n",
    "fig, ax = plt.subplots(figsize = (16,12))\n",
    "sns.barplot(x = gross_directors.index, y = gross_directors.values)\n",
    "#ax.bar(x = gross_directors.index, height = gross_directors.values)\n",
    "ax.set_title('Average Gross Across Top 10 Rated Directors')\n",
    "ax.set_ylabel('Average Gross Of Films Directed')\n",
    "ax.set_xlabel('Writer Name')\n",
    "#plt.savefig('GrossTop10Writer.png')"
   ]
  },
  {
   "cell_type": "markdown",
   "metadata": {},
   "source": [
    "# Average Gross vs. Average Budget"
   ]
  },
  {
   "cell_type": "code",
   "execution_count": 47,
   "metadata": {},
   "outputs": [],
   "source": [
    "#Makes datasubset with info need\n",
    "tn_movie_budgets['year_tn'] = tn_movie_budgets['release_date'].str[-4:].astype(int)\n",
    "tn_movie_budgets['production_budget_clean'] = tn_movie_budgets['production_budget'].str.replace(\",\",\"\").str.replace(\"$\",\"\").astype(float)\n",
    "tn_movie_budgets['worldwide_gross_clean'] = tn_movie_budgets['worldwide_gross'].str.replace(\",\",\"\").str.replace(\"$\",\"\").astype(float)\n",
    "tn_movie_budgets_slim = tn_movie_budgets[['movie', 'year_tn', 'production_budget_clean', 'worldwide_gross_clean']]\n",
    "\n",
    "#Merges and matches\n",
    "imdb_with_budget = imdb.merge(tn_movie_budgets_slim, how = 'inner', left_on = 'primary_title', right_on = 'movie')\n",
    "imdb_with_budget = imdb_with_budget[imdb_with_budget['start_year'] == imdb_with_budget['year_tn']]\n"
   ]
  },
  {
   "cell_type": "code",
   "execution_count": 48,
   "metadata": {},
   "outputs": [],
   "source": [
    "#Splits and sorts out dead\n",
    "budget_split_directors = imdb_with_budget.assign(directors=imdb_with_budget.directors.str.split(\",\")).explode('directors')\n",
    "budget_to_be_or_not = budget_split_directors.merge(imdb_name_basics_slim, left_on = 'directors', right_on = 'nconst')\n",
    "\n",
    "budget_alive_imdb_directors = budget_to_be_or_not[budget_to_be_or_not['death_year'].isna()]\n"
   ]
  },
  {
   "cell_type": "code",
   "execution_count": 52,
   "metadata": {},
   "outputs": [
    {
     "data": {
      "image/png": "[encoded data removed]",
      "text/plain": [
       "<Figure size 1152x864 with 1 Axes>"
      ]
     },
     "metadata": {
      "needs_background": "light"
     },
     "output_type": "display_data"
    }
   ],
   "source": [
    "budget_directors = budget_alive_imdb_directors.groupby('primary_name')[['worldwide_gross_clean', 'production_budget_clean']].mean().sort_values(ascending = False, by = 'worldwide_gross_clean')[:10]\n",
    "bd = budget_directors.reset_index()\n",
    "df_melted = bd.melt(\"primary_name\",var_name=\"Gross_Budget\",value_name=\"Money\")\n",
    "\n",
    "\n",
    "fig, ax = plt.subplots(figsize = (16,12))\n",
    "sns.barplot(data = df_melted, x = 'primary_name', y = 'Money', hue = 'Gross_Budget')\n",
    "#ax.bar(x = gross_directors.index, height = gross_directors.values)\n",
    "ax.set_title('Average Gross vs. Average Budget Per Director')\n",
    "ax.set_ylabel('Amount in USD')\n",
    "ax.set_xlabel('Director Name')\n",
    "#budget_directors.head()\n",
    "#plt.savefig('GrossVsBudget.png')\n"
   ]
  },
  {
   "cell_type": "markdown",
   "metadata": {},
   "source": [
    "# Genre vs. Gross"
   ]
  },
  {
   "cell_type": "code",
   "execution_count": 56,
   "metadata": {},
   "outputs": [
    {
     "data": {
      "image/png": "[encoded data removed]",
      "text/plain": [
       "<Figure size 1008x720 with 1 Axes>"
      ]
     },
     "metadata": {
      "needs_background": "light"
     },
     "output_type": "display_data"
    }
   ],
   "source": [
    "split_genres = imdb_with_gross.assign(genres=imdb_with_gross.genres.str.split(\",\")).explode('genres')\n",
    "\n",
    "genre_gross = split_genres.groupby('genres')['total_gross'].mean().sort_values(ascending = False)[:5]\n",
    "\n",
    "fig, ax = plt.subplots(figsize = (14,10))\n",
    "sns.barplot(x = genre_gross.index, y = genre_gross.values)\n",
    "ax.set_title('Genres With Highest Average Gross')\n",
    "ax.set_ylabel('Average Gross Of Films')\n",
    "ax.set_xlabel('Genre Name')\n",
    "#plt.savefig('GenreAvgGross.png')"
   ]
  },
  {
   "cell_type": "markdown",
   "metadata": {},
   "source": [
    "## Higher Rating Genre vs. Gross"
   ]
  },
  {
   "cell_type": "code",
   "execution_count": 57,
   "metadata": {},
   "outputs": [],
   "source": [
    "imdb_with_gross2 = imdb_with_gross[imdb_with_gross['averagerating'] > imdb_with_gross['averagerating'].mean()]"
   ]
  },
  {
   "cell_type": "code",
   "execution_count": 61,
   "metadata": {},
   "outputs": [
    {
     "data": {
      "image/png": "[encoded data removed]",
      "text/plain": [
       "<Figure size 1008x720 with 1 Axes>"
      ]
     },
     "metadata": {
      "needs_background": "light"
     },
     "output_type": "display_data"
    }
   ],
   "source": [
    "split_genres2 = imdb_with_gross2.assign(genres=imdb_with_gross2.genres.str.split(\",\")).explode('genres')\n",
    "\n",
    "genre_gross2 = split_genres2.groupby('genres')['total_gross'].mean().sort_values(ascending = False)[:5]\n",
    "\n",
    "fig, ax = plt.subplots(figsize = (14,10))\n",
    "sns.barplot(x = genre_gross2.index, y = genre_gross2.values)\n",
    "ax.set_title('Genres With Highest Gross - Only High Rated Films')\n",
    "ax.set_ylabel('Average Gross Of Films')\n",
    "ax.set_xlabel('Genre Name')\n",
    "#plt.savefig('TopGenreGross.png')"
   ]
  },
  {
   "cell_type": "code",
   "execution_count": 29,
   "metadata": {},
   "outputs": [],
   "source": [
    "scifi = genre_gross2.values[0]\n",
    "adventure = genre_gross2.values[1]"
   ]
  },
  {
   "cell_type": "code",
   "execution_count": 33,
   "metadata": {},
   "outputs": [
    {
     "data": {
      "text/plain": [
       "17.781185851642547"
      ]
     },
     "execution_count": 33,
     "metadata": {},
     "output_type": "execute_result"
    }
   ],
   "source": [
    "percent_change = ((scifi - adventure)/adventure) * 100\n",
    "percent_change"
   ]
  },
  {
   "cell_type": "markdown",
   "metadata": {},
   "source": [
    "# Top Director Genre Regardless"
   ]
  },
  {
   "cell_type": "code",
   "execution_count": 67,
   "metadata": {},
   "outputs": [],
   "source": [
    "split_directors = imdb.assign(directors=imdb.directors.str.split(\",\")).explode('directors')\n",
    "to_be_or_not = split_directors.merge(imdb_name_basics, left_on = 'directors', right_on = 'nconst')\n",
    "\n",
    "alive_imdb_directors = to_be_or_not[to_be_or_not['death_year'].isna()]\n",
    "\n",
    "top_directors = alive_imdb_directors.groupby('primary_name')['tconst'].count().sort_values(ascending = False)\n",
    "top_director_names = top_directors[top_directors.values > 3]\n",
    "director_names_list = list(top_director_names.index.values)\n",
    "imdb_top_directors = alive_imdb_directors[alive_imdb_directors['primary_name'].isin(director_names_list)]"
   ]
  },
  {
   "cell_type": "code",
   "execution_count": 69,
   "metadata": {},
   "outputs": [
    {
     "data": {
      "image/png": "[encoded data removed]",
      "text/plain": [
       "<Figure size 1152x720 with 1 Axes>"
      ]
     },
     "metadata": {
      "needs_background": "light"
     },
     "output_type": "display_data"
    }
   ],
   "source": [
    "top_directors = imdb_top_directors.groupby('primary_name')['averagerating'].mean().sort_values(ascending = False)[:10]\n",
    "\n",
    "fig, ax = plt.subplots(figsize = (16,10))\n",
    "sns.barplot(x = top_directors.index, y = top_directors.values)\n",
    "ax.set_title('Top Rated Writers')\n",
    "ax.set_xticklabels(labels=top_directors.index, rotation = 30)\n",
    "plt.setp(ax.xaxis.get_majorticklabels(), ha='right')\n",
    "ax.set_ylabel('Average Rating')\n",
    "ax.set_xlabel('Director Name');\n",
    "\n",
    "#plt.savefig('TopWritersOverall.png')"
   ]
  },
  {
   "cell_type": "markdown",
   "metadata": {},
   "source": [
    "# Combined Genres Graphs"
   ]
  },
  {
   "cell_type": "code",
   "execution_count": null,
   "metadata": {},
   "outputs": [],
   "source": [
    "\"\"\"\n",
    "directors_drama = sns.barplot(x='Directors', y='Average Rating', data=df_director_drama)\n",
    "directors_drama.set_title('Directors Who Have the Highest Average Rating in the Drama Genre - Directed 3+ Movies')\n",
    "#rotates x-tick labels\n",
    "directors_drama.set_xticklabels(labels=director_drama_data['Directors'], rotation = 30)\n",
    "#Pushes labels to left to match with correct bar after rotating\n",
    "plt.setp(directors_drama.xaxis.get_majorticklabels(), ha='right')\n",
    "#Adds total labels to bars\n",
    "for p in directors_drama.patches:\n",
    "    directors_drama.annotate(format(p.get_height(), '.1f'),\n",
    "                   (p.get_x() + p.get_width() / 2., p.get_height()),\n",
    "                   ha = 'center', va = 'center',\n",
    "                   xytext = (0, 9),\n",
    "                   textcoords = 'offset points')\n",
    "\"\"\""
   ]
  },
  {
   "cell_type": "code",
   "execution_count": 14,
   "metadata": {},
   "outputs": [],
   "source": [
    "#Splits up any entry with multiple directors to single rows and merges with name_basics\n",
    "split_directors = drama_imdb.assign(writers=drama_imdb.writers.str.split(\",\")).explode('writers')\n",
    "to_be_or_not = split_directors.merge(imdb_name_basics, left_on = 'writers', right_on = 'nconst')\n",
    "to_be_or_not.head()\n",
    "\n",
    "#Gets rid of any dead directors\n",
    "alive_imdb_directors = to_be_or_not[to_be_or_not['death_year'].isna()]\n",
    "\n",
    "# Sort only directors who've directed three or more drama films in the last five years\n",
    "top_directors = alive_imdb_directors.groupby('primary_name')['tconst'].count().sort_values(ascending = False)\n",
    "top_directors_names = top_directors[top_directors.values > 2]\n",
    "names_list = list(top_directors_names.index.values)\n",
    "imdb_top_directors_drama = alive_imdb_directors[alive_imdb_directors['primary_name'].isin(names_list)]"
   ]
  },
  {
   "cell_type": "code",
   "execution_count": 16,
   "metadata": {},
   "outputs": [
    {
     "data": {
      "image/png": "[encoded data removed]",
      "text/plain": [
       "<Figure size 1152x720 with 1 Axes>"
      ]
     },
     "metadata": {
      "needs_background": "light"
     },
     "output_type": "display_data"
    }
   ],
   "source": [
    "top_directors = imdb_top_directors_drama.groupby('primary_name')['averagerating'].mean().sort_values(ascending = False)\n",
    "\n",
    "fig, ax = plt.subplots(figsize = (16,10))\n",
    "sns.lineplot(x = top_directors.index, y = top_directors.values, marker = 'o')\n",
    "ax.set_title('Writers Of Multiple Dramas Vs Their Average Movie Rating')\n",
    "ax.set_ylabel('Average Rating')\n",
    "ax.axes.get_xaxis().set_ticks([])\n",
    "ax.set_xlabel('Writers');\n",
    "plt.savefig('AllDramaWriters83.png')\n",
    "\n"
   ]
  },
  {
   "cell_type": "code",
   "execution_count": null,
   "metadata": {},
   "outputs": [],
   "source": []
  }
 ],
 "metadata": {
  "kernelspec": {
   "display_name": "Python (learn-env)",
   "language": "python",
   "name": "learn-env"
  },
  "language_info": {
   "codemirror_mode": {
    "name": "ipython",
    "version": 3
   },
   "file_extension": ".py",
   "mimetype": "text/x-python",
   "name": "python",
   "nbconvert_exporter": "python",
   "pygments_lexer": "ipython3",
   "version": "3.8.5"
  }
 },
 "nbformat": 4,
 "nbformat_minor": 4
}
