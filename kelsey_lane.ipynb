{
 "cells": [
  {
   "cell_type": "markdown",
   "metadata": {},
   "source": [
    "# Microsoft Movie Studio Data Analysis\n",
    "---\n",
    "\n",
    "Authors: Andrew Bernklau, [Kelsey Lane](kelsklane@gmail.com), Lenore Perconti"
   ]
  },
  {
   "cell_type": "markdown",
   "metadata": {},
   "source": [
    "## Overview\n",
    "---\n",
    "\n",
    "This project analyzes various datasets related to movies in order to formulate three relevant reccomendations for the direction of Microsoft's new movie studio. By looking at **columns**, the data show that **basic results**. Microsoft can use these reccomendations to help decide which direction they want to take their new studio in terms of what types of movies to create for **intended direction ie) gross/rating**."
   ]
  },
  {
   "cell_type": "markdown",
   "metadata": {},
   "source": [
    "## Business Problem\n",
    "---\n",
    "For its' future movies, Microsoft should **summarize reccomendations**. By following these reccomendations, Microsoft can **target audience/money/aka how use**. **Summarize implications of project for prob/stakeholder**"
   ]
  },
  {
   "cell_type": "markdown",
   "metadata": {},
   "source": [
    "## Data\n",
    "---\n",
    "[IMDB](https://www.imdb.com) is a public, online database with information about video media content. The datasets provide infomration about directors, writers, ratings, and runtime that can be used to track the success of different films. **edit features** The datasets used in the analysis include ones pretaining to **list used datasets**.\n",
    "- **Present size of datasets and descriptive stats for features used in analysis**\n",
    "- **Justify features inclusion based on properties + project relevance**\n",
    "- **Identify any data limitations that have project implications - nothing earlier than 2018 (?)**"
   ]
  },
  {
   "cell_type": "markdown",
   "metadata": {},
   "source": [
    "# Initial Exploration"
   ]
  },
  {
   "cell_type": "markdown",
   "metadata": {},
   "source": [
    "Loads in libraries used throughout the notebook"
   ]
  },
  {
   "cell_type": "code",
   "execution_count": 1,
   "metadata": {},
   "outputs": [],
   "source": [
    "import pandas as pd\n",
    "import matplotlib.pyplot as plt\n",
    "import seaborn as sns\n",
    "import numpy as np"
   ]
  },
  {
   "cell_type": "markdown",
   "metadata": {},
   "source": [
    "Read in Files:"
   ]
  },
  {
   "cell_type": "code",
   "execution_count": 2,
   "metadata": {},
   "outputs": [],
   "source": [
    "#Columns: title, studio, domestic_gross, foreign_gross, year\n",
    "bom_movie_gross = pd.read_csv('Data/bom.movie_gross.csv.gz', compression='gzip')\n",
    "\n",
    "#Columns: nconst, primary_name, birth_year, death_year, primary_profession, known_for_titles\n",
    "imdb_name_basics = pd.read_csv('Data/imdb.name.basics.csv.gz', compression='gzip')\n",
    "\n",
    "#Columns: title_id, ordering, title, region, language, types, attributes, is_original_title\n",
    "imdb_title_akas = pd.read_csv('Data/imdb.title.akas.csv.gz', compression='gzip')\n",
    "\n",
    "#Columns: tconst, primary_title, original_title, start_year, runtime_minutes, genres\n",
    "imdb_title_basics = pd.read_csv('Data/imdb.title.basics.csv.gz', compression='gzip')\n",
    "\n",
    "#Columns: tconst, directors, writers\n",
    "imdb_title_crew = pd.read_csv('Data/imdb.title.crew.csv.gz', compression='gzip')\n",
    "\n",
    "#Columns: tconst, ordering, nconst, category, job, characters\n",
    "imdb_title_principals = pd.read_csv('Data/imdb.title.principals.csv.gz', compression='gzip')\n",
    "\n",
    "#Columns: tconst, averagerating, numvotes\n",
    "imdb_title_ratings = pd.read_csv('Data/imdb.title.ratings.csv.gz', compression='gzip')\n",
    "\n",
    "#Columns: id, synopsis, rating, genre, director, writer, theater_date, dvd_date, currency, box_office, runtie, studio\n",
    "rt_movie_info = pd.read_csv('Data/rt.movie_info.tsv.gz', compression='gzip', sep = '\\t')\n",
    "\n",
    "#Columns: id, review, rating, fresh, critic, top_critic, publisher, date\n",
    "rt_reviews = pd.read_csv('Data/rt.reviews.tsv.gz', compression='gzip', sep = '\\t', encoding = 'latin1')\n",
    "\n",
    "#Columns: Unnamed:0, genre_ids, original_language, original_title, popularity, release_date, title, vote_average, vote_count\n",
    "tmdb_movies = pd.read_csv('Data/tmdb.movies.csv.gz', compression='gzip')\n",
    "\n",
    "#Columns: id, release_date, movie, production_budget, domestic_gross, worldwide_gross\n",
    "tn_movie_budgets = pd.read_csv('Data/tn.movie_budgets.csv.gz', compression='gzip')\n"
   ]
  },
  {
   "cell_type": "markdown",
   "metadata": {},
   "source": [
    "# Box Office Mojo Data Rundown"
   ]
  },
  {
   "cell_type": "code",
   "execution_count": 10,
   "metadata": {},
   "outputs": [
    {
     "data": {
      "text/plain": [
       "2018"
      ]
     },
     "execution_count": 10,
     "metadata": {},
     "output_type": "execute_result"
    }
   ],
   "source": [
    "#bom_movie_gross['year'].max()"
   ]
  },
  {
   "cell_type": "markdown",
   "metadata": {},
   "source": [
    "Foreign_gross needs to be converted to an int from string\n",
    "\n",
    "Studio has 5 missing values, domestic gross is missing 28 values, foreign gross is missing 1350\n",
    "\n",
    "Two movies named Bluebeard (same or different movies?)\n",
    "\n",
    "Could look into domestic vs foreign markets, most profitable studios + trends they follow?"
   ]
  },
  {
   "cell_type": "markdown",
   "metadata": {},
   "source": [
    "# IMDb Data Rundown"
   ]
  },
  {
   "cell_type": "code",
   "execution_count": 4,
   "metadata": {},
   "outputs": [],
   "source": [
    "#imdb_name_basics.head()\n",
    "#imdb_title_akas.head()\n",
    "#imdb_title_basics['start_year'].sort_values(ascending = False)\n",
    "#imdb_title_crew['writers'].value_counts()\n",
    "#imdb_title_principals['characters'].value_counts()\n",
    "#imdb_title_ratings.info()"
   ]
  },
  {
   "cell_type": "markdown",
   "metadata": {},
   "source": [
    "**Probably need to match movie titles/names instead of tt and nm tags**"
   ]
  },
  {
   "cell_type": "markdown",
   "metadata": {},
   "source": [
    "**name_basics**: List of people and their primary profession as well as titles they're known for\n",
    "- many birth yers and death years missing - can drop these columns? dont seem to provide useful info\n",
    "- 51,340 rows missing profession\n",
    "- 30,204 rows missing known for titles\n",
    "- many names are repeated multiple times - would have to consolodate this info\n",
    "- could be useful to get list of current trending directors/actors etc to reccomend for a film?\n",
    "- would need to clean up primary_profession column so seperate based on , then add proffesions to a list so easier to access data\n",
    "\n",
    "**title_akas**: international info? titles, regions, language, and lists if original or not\n",
    "- may have issues with this one due to foreign text, ditch it?\n",
    "- region is missing info and language missing a lot of info, types and attributes also missing info\n",
    "- lists US info, types marks if in festivale/dvd/etc, attributes has info on if new/alt spelling/complete title\n",
    "- could be used to clarify info in other tables perhaps?\n",
    "\n",
    "**title_basics**: List of titles (original and marketed) plus the runtime, start_year, and genres\n",
    "- original title is missing 21 entries, runtime missing 31,739 entries, genre missing 5,408\n",
    "- primary and original title has many repeats of names\n",
    "- one of the films starts in 2115? Error or start_year is like, in film universe start\n",
    "- would need to split genre on commas and makes list for easier readability of data\n",
    "- would be good to groupby year and look and runtime/genre trends?\n",
    "\n",
    "**title_crew**: List of titles and their directors and writers (references name_basic)\n",
    "- Directors missing 5727 entries and writers missing 35,883 entries\n",
    "- basically useful if we want to recommend a list of directors/writers of top movies\n",
    "- could also look at high # of director/writer and see what projects they worked on ie do it backwards\n",
    "\n",
    "**title_principals**: List of movies and people, for actors lists the role, ordering = importance?\n",
    "- job and character predictably have null values\n",
    "- Useful to see what actor played what character ie) wanna only nab main cast + not supporting\n",
    "\n",
    "**title_ratings**: Has average movie rating and number of votes\n",
    "- Basically where to grab rating info - merge w/ title_basics?\n",
    "- no null values! But doesn't contain same number of films as original list\n",
    "    - probably because there are duplicate movies in original list potentially?\n",
    "    - only look at movies with ratings??"
   ]
  },
  {
   "cell_type": "markdown",
   "metadata": {},
   "source": [
    "# Rotten Tomatoes Rundown"
   ]
  },
  {
   "cell_type": "code",
   "execution_count": 58,
   "metadata": {},
   "outputs": [],
   "source": [
    "#rt_movie_info['genre'].value_counts()\n",
    "#rt_reviews.info()"
   ]
  },
  {
   "cell_type": "markdown",
   "metadata": {},
   "source": [
    "**movie_info**: general info on films as well as theater release/dvd_date/box office/studio\n",
    "- missing info in every column but id, mostly in currency/box office and studio\n",
    "- could use for rating info - seperate into children/adult movies?\n",
    "    - mostly R/NR movies, around 1/6 or so are PG and even less are G\n",
    "\n",
    "**reviews**: contains fresh/rotten review, top critic + publisher as well as date of review\n",
    "- rating, review, publisher, and critic all missing info\n",
    "- rating would need to get converted to int\n",
    "- who to reach out for to review film? or which publisher?"
   ]
  },
  {
   "cell_type": "markdown",
   "metadata": {},
   "source": [
    "# TheMovieDatabase Rundown"
   ]
  },
  {
   "cell_type": "code",
   "execution_count": 69,
   "metadata": {},
   "outputs": [],
   "source": [
    "#tmdb_movies['vote_average'].sort_values(ascending = False)"
   ]
  },
  {
   "cell_type": "markdown",
   "metadata": {},
   "source": [
    "- no missing values! data actually seems pretty clean/well formated\n",
    "- There are duplicate movie entries though\n",
    "- popularity ranking, vote avg and vote count could be useful popularity metrics?"
   ]
  },
  {
   "cell_type": "markdown",
   "metadata": {},
   "source": [
    "# The Numbers Rundown"
   ]
  },
  {
   "cell_type": "code",
   "execution_count": 68,
   "metadata": {},
   "outputs": [],
   "source": [
    "#tn_movie_budgets['movie'].value_counts()"
   ]
  },
  {
   "cell_type": "markdown",
   "metadata": {},
   "source": [
    "- also no missing data!\n",
    "- need to convert budget and gross columns into ints though\n",
    "- some movies also in here multiple times\n",
    "- budgets alongside domestic and worldwide gross\n",
    "    - does worldwide include domestic?"
   ]
  },
  {
   "cell_type": "markdown",
   "metadata": {},
   "source": [
    "# Possible reccomendations to work towards\n",
    "\n",
    "1. Good genre/genre combos\n",
    "    - also consider quantity per year grouped by studio\n",
    "    - maybe look into both domestic + international market\n",
    "    - so one rec if want corner domestic market and one rec for international?\n",
    "2. Based on top ratings OR top grossing films - what cast/director/writer to angle for? Studio to work with?\n",
    "3. Recommendation for top grossing + different for top rated?\n",
    "    - that way could cater to if just want money or interested in like, artistic value\n",
    "4. Could also seperate out recommendations based on audience ie) PG vs R"
   ]
  },
  {
   "cell_type": "code",
   "execution_count": null,
   "metadata": {},
   "outputs": [],
   "source": []
  }
 ],
 "metadata": {
  "kernelspec": {
   "display_name": "Python (learn-env)",
   "language": "python",
   "name": "learn-env"
  },
  "language_info": {
   "codemirror_mode": {
    "name": "ipython",
    "version": 3
   },
   "file_extension": ".py",
   "mimetype": "text/x-python",
   "name": "python",
   "nbconvert_exporter": "python",
   "pygments_lexer": "ipython3",
   "version": "3.8.5"
  }
 },
 "nbformat": 4,
 "nbformat_minor": 4
}
