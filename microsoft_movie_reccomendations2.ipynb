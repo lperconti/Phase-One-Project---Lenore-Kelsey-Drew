{
 "cells": [
  {
   "cell_type": "markdown",
   "metadata": {},
   "source": [
    "# Microsoft Movie Studio Data Analysis\n",
    "---\n",
    "\n",
    "**Authors**: [Andrew Bernklau](andrewbernklau1@gmail.com), [Kelsey Lane](kelsklane@gmail.com), [Lenore Perconti](lenorephotography@gmail.com)"
   ]
  },
  {
   "cell_type": "markdown",
   "metadata": {},
   "source": [
    "## Overview\n",
    "---\n",
    "\n",
    "This project analyzes various [IMDb](https://www.imdb.com) datasets related to films in order to formulate relevant recomendations for the direction of Microsoft's new movie studio. Exploration of this data shows that movies that are in the drama genre have a higher average rating and runtimes of 112 minutes are preferred. A shortlist of recommended directors for these genres is also provided."
   ]
  },
  {
   "cell_type": "markdown",
   "metadata": {},
   "source": [
    "## Business Problem\n",
    "---\n",
    "In order to help establish their new studio, Microsoft should focus on producing original content in the drama genre, as this genre produces a higher rating on average. By following these recomendations, Microsoft can better their chances of producing high rated movies and help establish their new studio as a powerhouse. "
   ]
  },
  {
   "cell_type": "markdown",
   "metadata": {},
   "source": [
    "## Data\n",
    "---\n",
    "[IMDB](https://www.imdb.com) is a public, online database with information about video media content and ratings of movies, which can be used to gage public sentiment towards different films. The IMDb datasets provide information about basic movie and crew information, as well as their ratings, which we used in this analysis. There are also unique IDs associated with both films and people to ensure there is no confusion with similarly named features. Most of these datasets were combined into one, named imdb, in order to facilitate the exploration of the data, though the basic descriptions of crew were kept seperate to help keep the data cleaner for the inital exploration."
   ]
  },
  {
   "cell_type": "code",
   "execution_count": 1,
   "metadata": {},
   "outputs": [],
   "source": [
    "import pandas as pd\n",
    "import matplotlib.pyplot as plt\n",
    "import seaborn as sns"
   ]
  },
  {
   "cell_type": "code",
   "execution_count": 2,
   "metadata": {},
   "outputs": [
    {
     "data": {
      "text/html": [
       "<div>\n",
       "<style scoped>\n",
       "    .dataframe tbody tr th:only-of-type {\n",
       "        vertical-align: middle;\n",
       "    }\n",
       "\n",
       "    .dataframe tbody tr th {\n",
       "        vertical-align: top;\n",
       "    }\n",
       "\n",
       "    .dataframe thead th {\n",
       "        text-align: right;\n",
       "    }\n",
       "</style>\n",
       "<table border=\"1\" class=\"dataframe\">\n",
       "  <thead>\n",
       "    <tr style=\"text-align: right;\">\n",
       "      <th></th>\n",
       "      <th>tconst</th>\n",
       "      <th>primary_title</th>\n",
       "      <th>start_year</th>\n",
       "      <th>genres</th>\n",
       "      <th>runtime_minutes</th>\n",
       "      <th>directors</th>\n",
       "      <th>writers</th>\n",
       "      <th>averagerating</th>\n",
       "      <th>numvotes</th>\n",
       "    </tr>\n",
       "  </thead>\n",
       "  <tbody>\n",
       "    <tr>\n",
       "      <th>0</th>\n",
       "      <td>tt0069049</td>\n",
       "      <td>The Other Side of the Wind</td>\n",
       "      <td>2018</td>\n",
       "      <td>Drama</td>\n",
       "      <td>122.0</td>\n",
       "      <td>nm0000080</td>\n",
       "      <td>nm0000080,nm0462648</td>\n",
       "      <td>6.9</td>\n",
       "      <td>4517</td>\n",
       "    </tr>\n",
       "    <tr>\n",
       "      <th>1</th>\n",
       "      <td>tt0315642</td>\n",
       "      <td>Wazir</td>\n",
       "      <td>2016</td>\n",
       "      <td>Action,Crime,Drama</td>\n",
       "      <td>103.0</td>\n",
       "      <td>nm2349060</td>\n",
       "      <td>nm7430071,nm1249226,nm0006765,nm0430785,nm2349...</td>\n",
       "      <td>7.1</td>\n",
       "      <td>15378</td>\n",
       "    </tr>\n",
       "    <tr>\n",
       "      <th>2</th>\n",
       "      <td>tt0360556</td>\n",
       "      <td>Fahrenheit 451</td>\n",
       "      <td>2018</td>\n",
       "      <td>Drama,Sci-Fi,Thriller</td>\n",
       "      <td>100.0</td>\n",
       "      <td>nm1023919</td>\n",
       "      <td>nm0001969,nm1023919,nm0618881</td>\n",
       "      <td>4.9</td>\n",
       "      <td>14469</td>\n",
       "    </tr>\n",
       "  </tbody>\n",
       "</table>\n",
       "</div>"
      ],
      "text/plain": [
       "      tconst               primary_title  start_year                 genres  \\\n",
       "0  tt0069049  The Other Side of the Wind        2018                  Drama   \n",
       "1  tt0315642                       Wazir        2016     Action,Crime,Drama   \n",
       "2  tt0360556              Fahrenheit 451        2018  Drama,Sci-Fi,Thriller   \n",
       "\n",
       "   runtime_minutes  directors  \\\n",
       "0            122.0  nm0000080   \n",
       "1            103.0  nm2349060   \n",
       "2            100.0  nm1023919   \n",
       "\n",
       "                                             writers  averagerating  numvotes  \n",
       "0                                nm0000080,nm0462648            6.9      4517  \n",
       "1  nm7430071,nm1249226,nm0006765,nm0430785,nm2349...            7.1     15378  \n",
       "2                      nm0001969,nm1023919,nm0618881            4.9     14469  "
      ]
     },
     "execution_count": 2,
     "metadata": {},
     "output_type": "execute_result"
    }
   ],
   "source": [
    "imdb = pd.read_csv('Data/imdb.csv')\n",
    "imdb.head(3)"
   ]
  },
  {
   "cell_type": "code",
   "execution_count": 3,
   "metadata": {},
   "outputs": [
    {
     "data": {
      "text/html": [
       "<div>\n",
       "<style scoped>\n",
       "    .dataframe tbody tr th:only-of-type {\n",
       "        vertical-align: middle;\n",
       "    }\n",
       "\n",
       "    .dataframe tbody tr th {\n",
       "        vertical-align: top;\n",
       "    }\n",
       "\n",
       "    .dataframe thead th {\n",
       "        text-align: right;\n",
       "    }\n",
       "</style>\n",
       "<table border=\"1\" class=\"dataframe\">\n",
       "  <thead>\n",
       "    <tr style=\"text-align: right;\">\n",
       "      <th></th>\n",
       "      <th>nconst</th>\n",
       "      <th>primary_name</th>\n",
       "      <th>death_year</th>\n",
       "    </tr>\n",
       "  </thead>\n",
       "  <tbody>\n",
       "    <tr>\n",
       "      <th>0</th>\n",
       "      <td>nm0061671</td>\n",
       "      <td>Mary Ellen Bauder</td>\n",
       "      <td>NaN</td>\n",
       "    </tr>\n",
       "    <tr>\n",
       "      <th>1</th>\n",
       "      <td>nm0061865</td>\n",
       "      <td>Joseph Bauer</td>\n",
       "      <td>NaN</td>\n",
       "    </tr>\n",
       "    <tr>\n",
       "      <th>2</th>\n",
       "      <td>nm0062070</td>\n",
       "      <td>Bruce Baum</td>\n",
       "      <td>NaN</td>\n",
       "    </tr>\n",
       "  </tbody>\n",
       "</table>\n",
       "</div>"
      ],
      "text/plain": [
       "      nconst       primary_name  death_year\n",
       "0  nm0061671  Mary Ellen Bauder         NaN\n",
       "1  nm0061865       Joseph Bauer         NaN\n",
       "2  nm0062070         Bruce Baum         NaN"
      ]
     },
     "execution_count": 3,
     "metadata": {},
     "output_type": "execute_result"
    }
   ],
   "source": [
    "imdb_name_basics = pd.read_csv('Data/imdb_name_basics_slim')\n",
    "imdb_name_basics.head(3)"
   ]
  },
  {
   "cell_type": "markdown",
   "metadata": {},
   "source": [
    "## Data Preparation"
   ]
  },
  {
   "cell_type": "markdown",
   "metadata": {},
   "source": [
    "The full list of datasets used included the basic movie title and crew information, the title crew information, and title rankings. The name basics dataframe is read in seperatly above."
   ]
  },
  {
   "cell_type": "code",
   "execution_count": 4,
   "metadata": {},
   "outputs": [],
   "source": [
    "imdb_title_basics = pd.read_csv('Data/imdb.title.basics.csv.gz', compression='gzip')\n",
    "imdb_title_crew = pd.read_csv('Data/imdb.title.crew.csv.gz', compression='gzip')\n",
    "imdb_title_ratings = pd.read_csv('Data/imdb.title.ratings.csv.gz', compression='gzip')"
   ]
  },
  {
   "cell_type": "markdown",
   "metadata": {},
   "source": [
    "### Data Cleaning"
   ]
  },
  {
   "cell_type": "markdown",
   "metadata": {},
   "source": [
    "The datasets were paired down to only include the tconst column, which is the unique ID for each movie title, as well as the title (primary_title) column to be able to grab any specific well-preforming movie in a readable way. The start year (start_year) and number of votes (numvotes) columns are also included to help appropriately filter the data. As we are looking for the best rated genres, as well as their average runtime and highest rated directors and writers, the appropriate columns are also included to allow for this analysis. Any additional columns that wouldn't be used are thus not included and the original column names are kept as they are straightforward. The imdb_name_basics dataframe read in above with the imdb dataframe is talked about seperatly in a section further down."
   ]
  },
  {
   "cell_type": "code",
   "execution_count": 5,
   "metadata": {},
   "outputs": [],
   "source": [
    "#Pairs the original datasets down to the relevant columns\n",
    "imdb_title_basics_slim = imdb_title_basics[['tconst', 'primary_title', 'start_year', 'genres', 'runtime_minutes']]\n",
    "imdb_name_basics_slim = imdb_name_basics[['nconst', 'primary_name', 'death_year']]\n",
    "imdb_title_ratings_slim = imdb_title_ratings[['tconst', 'averagerating', 'numvotes']]"
   ]
  },
  {
   "cell_type": "markdown",
   "metadata": {},
   "source": [
    "We focused on a subset of the full IMDb data that only contains movies released in the last five years (2014-2018 for the purposes of the given data), in order to ensure that any reccomendations relate to current market trends. We also limited the dataset down to movies that had a number of votes greater than or equal to the mean number of votes (3,524) so that we could root out any films that had a small but dedicated audience. While we considered using the median number of votes here it only came out to 49 total votes, which seemed too small to properly represent a broad public sentiment."
   ]
  },
  {
   "cell_type": "code",
   "execution_count": 6,
   "metadata": {},
   "outputs": [],
   "source": [
    "#Pairs the appropriate datasets read in above down by the restrictions listed\n",
    "recent_imdb_title_basics = imdb_title_basics_slim[(imdb_title_basics_slim['start_year'] >= 2014) \n",
    "                                                  & (imdb_title_basics_slim['start_year'] <= 2018)]\n",
    "imdb_title_ratings_half = imdb_title_ratings_slim[imdb_title_ratings_slim['numvotes'] >= \n",
    "                                                  imdb_title_ratings_slim['numvotes'].mean()]"
   ]
  },
  {
   "cell_type": "markdown",
   "metadata": {},
   "source": [
    "### Data Merging"
   ]
  },
  {
   "cell_type": "markdown",
   "metadata": {},
   "source": [
    "We then merged the resulting datasets together using an inner merge to make sure we were only looking at movies that had all the data we were going to explore."
   ]
  },
  {
   "cell_type": "code",
   "execution_count": 7,
   "metadata": {},
   "outputs": [],
   "source": [
    "one = recent_imdb_title_basics.merge(imdb_title_crew, how = 'inner')\n",
    "imdb = one.merge(imdb_title_ratings_half, how = 'inner')\n",
    "#Save cleaned dataset as CSV file\n",
    "imdb.to_csv('Data/imdb.csv', index = False)"
   ]
  },
  {
   "cell_type": "markdown",
   "metadata": {},
   "source": [
    "This left us with a dataset with only 2,549 rows, going down from 146,144 entries in the original IMDb datasets. This obviously provides us with less data to work with and may not be a fully accurrate representation of current trends. Also, as only the IMDb datasets are used, this can skew our results as IMDb may not be a good representation of the opinions of the general populace. Finally, 57% of the films in the dataframe used for analysis have drama as a genre. This clearly adds a bias to the data, so getting to use a more robust dataset that could fill out the other genres more could help produce more accurrate results, though this bias could exist as dramas are simply favored and thus more highly rated on average."
   ]
  },
  {
   "cell_type": "markdown",
   "metadata": {},
   "source": [
    "### IMDb_name_basics DataFrame Preperation"
   ]
  },
  {
   "cell_type": "markdown",
   "metadata": {},
   "source": [
    "IMDb name basics is included seperately in order to help keep the original IMDb data neat, as its' inclusion would duplicate movie rows and mess with the analysis of genre and runtime. Therefore, it is brought in later on when the director data are analyzed so that there are not accidental duplicates. The original dataset is slimmed down to only include the nconst column that uniquely identifies each crew member, as well as their name to know what each ID tag refers to, as well as their death year to prevent any reccomendations of dead directors or writers. However, as this data only dates back to 2018, there may be directors and writers in the list that are currently dead, but that information is not in the dataset yet."
   ]
  },
  {
   "cell_type": "code",
   "execution_count": 26,
   "metadata": {},
   "outputs": [],
   "source": [
    "imdb_name_basics_slim = imdb_name_basics[['nconst', 'primary_name', 'death_year']]\n",
    "imdb_name_basics_slim.to_csv('Data/imdb_name_basics_slim', index = False)"
   ]
  },
  {
   "cell_type": "markdown",
   "metadata": {},
   "source": [
    "## Analysis"
   ]
  },
  {
   "cell_type": "markdown",
   "metadata": {},
   "source": [
    "### Genre\n",
    "---"
   ]
  },
  {
   "cell_type": "markdown",
   "metadata": {},
   "source": [
    "The first approach we took is to look at the distribution of high-rated genres to get a sense of what genres are most popular and well-liked. As the graph below shows, 40% more movies produced that are highly rated end up falling in the drama genre. The second genre with the highest quantity of highly rated films is action, and thus is another good genre to potentially explore, though this analysis focuses on drama. By focusing on producing drama movies first, this can help Microsoft have a high chance of achieving critical acclaim and thus establish themselves as a powerhouse right from the get go."
   ]
  },
  {
   "cell_type": "markdown",
   "metadata": {},
   "source": [
    "#### Genre Visualization"
   ]
  },
  {
   "cell_type": "markdown",
   "metadata": {},
   "source": [
    "### Runtime\n",
    "---\n",
    "Another angle we looked at is the average runtime of high rated movies to get a sense of a good runtime option. This data is filtered to look at only the top two rated genres discovered above, drama and action, in order to help hone in the reccomendations. Knowing the average runtime of drama and action films can help Microsoft know how to produce movies in order to have the best chance of obtaining public approval and recieving high ratings for their films."
   ]
  },
  {
   "cell_type": "markdown",
   "metadata": {},
   "source": [
    "#### Runtime Visualization"
   ]
  },
  {
   "cell_type": "markdown",
   "metadata": {},
   "source": [
    "### ** Directors\n",
    "---\n",
    "Finally, we looked at directors that produce drama films in order to select the top 10 rated drama directors. We narrowed the list of directors down to those who've produced three or more drama films to make sure there wasn't any noise distorting the results from directors with only one or two films. The linegraph below shows the distribution of ratings for all these directors "
   ]
  },
  {
   "cell_type": "markdown",
   "metadata": {},
   "source": [
    "In order to get a clearer view of what directors would be best to recommend we focused in on the ten highest rated and graphed that result below. Here, we can see that Damien Chazelle is the director with the highest average movie rating, and would thus be the primary recommendation for director to work with. This will help Microsoft produce very highly rated genres, which in turn will help them put a good foot forward into the industry."
   ]
  },
  {
   "cell_type": "markdown",
   "metadata": {},
   "source": [
    "#### Directors Visualizations"
   ]
  },
  {
   "cell_type": "markdown",
   "metadata": {},
   "source": [
    "## Conclusions"
   ]
  },
  {
   "cell_type": "markdown",
   "metadata": {},
   "source": [
    "This analysis leads to three recomendations for films to help debut Microsoft's new movie studio\n",
    "- **Focus on the Drama genre.** We see 40% more high rated movies are dramas compared to the next highest genre, action.\n",
    "- **Hire one of the top rated drama directors.** Given that they're prolific in the field in recent years and have high average ratings, they are likely to produce a better drama movie.\n",
    "- **Aim for a runtime of 112 minutes.** High rated drama movies on avergae have a runtime of 112 minutes, so it sets a good standard to aim for."
   ]
  },
  {
   "cell_type": "markdown",
   "metadata": {},
   "source": [
    "## Next Steps"
   ]
  },
  {
   "cell_type": "markdown",
   "metadata": {},
   "source": [
    "Additional analysis could yield further insight into helping direct how Microsoft should approach its movie creation\n",
    "- **Bring in corporate constraints.** Knowing budget constraints or the quantity of movies to produce could shift how many genres to focus on or which directors to hire.\n",
    "- **Consider the implications of COVID on watch habits.** Drama might not be such a frontrunner in ratings anymore as COVID-19 could have shifted interest to other genres. Therefore, it would be good to further probe into the impact COVID may have had on this type of data.\n",
    "- **Differences between streaming and theatres.** With streaming being an at-home service, this may influence the watch habits of the population. As a result, it would be good to consider streaming-specific data and see if there are different trends present in that data.\n",
    "- **The domestic market versus an international one.** Since the dataset used in this project contains both domestic and international movies, a global approach to the problem was taken. Therefore, it would be a good idea in the future to consider the differences that might be present in just the sole domestic market."
   ]
  }
 ],
 "metadata": {
  "kernelspec": {
   "display_name": "Python (learn-env)",
   "language": "python",
   "name": "learn-env"
  },
  "language_info": {
   "codemirror_mode": {
    "name": "ipython",
    "version": 3
   },
   "file_extension": ".py",
   "mimetype": "text/x-python",
   "name": "python",
   "nbconvert_exporter": "python",
   "pygments_lexer": "ipython3",
   "version": "3.8.5"
  }
 },
 "nbformat": 4,
 "nbformat_minor": 4
}
